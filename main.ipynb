{
 "cells": [
  {
   "cell_type": "code",
   "execution_count": null,
   "metadata": {},
   "outputs": [],
   "source": []
  }
 ],
 "metadata": {
  "kernelspec": {
   "display_name": "Python 3.9.12 ('Infoling2')",
   "language": "python",
   "name": "python3"
  },
  "language_info": {
   "name": "python",
   "version": "3.9.12"
  },
  "orig_nbformat": 4,
  "vscode": {
   "interpreter": {
    "hash": "0073f31b020f51d2038c934f91d44a5a4d3b8d73a4ecabb3db0c6986d8115fb3"
   }
  }
 },
 "nbformat": 4,
 "nbformat_minor": 2
}
