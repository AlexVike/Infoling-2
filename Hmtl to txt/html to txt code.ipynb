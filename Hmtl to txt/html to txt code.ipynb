{
 "cells": [
  {
   "cell_type": "code",
   "execution_count": 7,
   "metadata": {},
   "outputs": [
    {
     "name": "stdout",
     "output_type": "stream",
     "text": [
      "Collecting lxml\n",
      "  Downloading lxml-4.9.1-cp39-cp39-win_amd64.whl (3.6 MB)\n",
      "Installing collected packages: lxml\n",
      "Successfully installed lxml-4.9.1\n"
     ]
    },
    {
     "name": "stderr",
     "output_type": "stream",
     "text": [
      "ERROR: pip's dependency resolver does not currently take into account all the packages that are installed. This behaviour is the source of the following dependency conflicts.\n",
      "farm-haystack 1.5.0 requires jsonschema, which is not installed.\n",
      "farm-haystack 1.5.0 requires networkx, which is not installed.\n",
      "farm-haystack 1.5.0 requires nltk, which is not installed.\n",
      "farm-haystack 1.5.0 requires pandas, which is not installed.\n",
      "farm-haystack 1.5.0 requires pydantic, which is not installed.\n",
      "farm-haystack 1.5.0 requires requests, which is not installed.\n",
      "farm-haystack 1.5.0 requires scikit-learn>=1.0.0, which is not installed.\n",
      "farm-haystack 1.5.0 requires scipy>=1.3.2, which is not installed.\n",
      "farm-haystack 1.5.0 requires torch<1.12,>1.9, which is not installed.\n",
      "farm-haystack 1.5.0 requires tqdm, which is not installed.\n"
     ]
    }
   ],
   "source": [
    "! pip install lxml\n"
   ]
  },
  {
   "cell_type": "code",
   "execution_count": 1,
   "metadata": {},
   "outputs": [],
   "source": [
    "from urllib.request import urlopen\n",
    "from bs4 import BeautifulSoup\n",
    "import os"
   ]
  },
  {
   "cell_type": "code",
   "execution_count": 2,
   "metadata": {},
   "outputs": [],
   "source": [
    "html = urlopen(\"https://www.uni-regensburg.de/studium/studienangebot/studiengaenge-a-z\")\n",
    "soup = BeautifulSoup(html.read(), 'lxml')\n",
    "links = []\n",
    "for link in soup.find_all('a'):\n",
    "  if \"schule/index.html\" in str(link) or \"-ba/index.html\" in str(link) or \"-bsc/index.html\" in str(link):\n",
    "     links.append(link.get('href'))"
   ]
  },
  {
   "cell_type": "code",
   "execution_count": 15,
   "metadata": {},
   "outputs": [
    {
     "name": "stdout",
     "output_type": "stream",
     "text": [
      "1\n",
      "2\n",
      "3\n"
     ]
    }
   ],
   "source": [
    "from urllib.request import urlopen\n",
    "from bs4 import BeautifulSoup\n",
    "x = 0\n",
    "for webseite in links:\n",
    "  name = webseite.split(\"/\")[-2]\n",
    "  try:\n",
    "    url = f\"https://www.uni-regensburg.de{webseite}\"\n",
    "    html = urlopen(url).read()\n",
    "    soup = BeautifulSoup(html, features=\"html.parser\")\n",
    "  except:\n",
    "     url = f\"{webseite}\"\n",
    "     html = urlopen(url).read()\n",
    "     soup = BeautifulSoup(html, features=\"html.parser\")\n",
    "\n",
    "# kill all script and style elements\n",
    "  for script in soup([\"script\", \"style\"]):\n",
    "      script.extract()    # rip it out\n",
    "\n",
    "  \n",
    "# get text\n",
    "  text = soup.get_text().replace(\"nach oben\", \"\")\n",
    "\n",
    "# break into lines and remove leading and trailing space on each\n",
    "  lines = (line.strip() for line in text.splitlines())\n",
    "# break multi-headlines into a line each\n",
    "  chunks = (phrase.strip() for line in lines for phrase in line.split(\"  \"))\n",
    "# drop blank lines\n",
    "  text = '\\n'.join(chunk for chunk in chunks if chunk)\n",
    "  \n",
    "   \n",
    "  with open(f\"{name}.txt\", \"w\", encoding=\"utf-8\") as file:\n",
    "    file.write(f\"{text}\")\n",
    "  \n",
    "  x +=1\n",
    "  print(x)\n"
   ]
  }
 ],
 "metadata": {
  "kernelspec": {
   "display_name": "Python 3.9.12 ('Infoling2')",
   "language": "python",
   "name": "python3"
  },
  "language_info": {
   "codemirror_mode": {
    "name": "ipython",
    "version": 3
   },
   "file_extension": ".py",
   "mimetype": "text/x-python",
   "name": "python",
   "nbconvert_exporter": "python",
   "pygments_lexer": "ipython3",
   "version": "3.9.12"
  },
  "orig_nbformat": 4,
  "vscode": {
   "interpreter": {
    "hash": "0073f31b020f51d2038c934f91d44a5a4d3b8d73a4ecabb3db0c6986d8115fb3"
   }
  }
 },
 "nbformat": 4,
 "nbformat_minor": 2
}
