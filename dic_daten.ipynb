{
  "cells": [
    {
      "cell_type": "markdown",
      "metadata": {
        "id": "1F9SFjlCosrJ"
      },
      "source": [
        "# Beispiellösung: QA-Systeme erstellen"
      ]
    },
    {
      "cell_type": "markdown",
      "metadata": {
        "id": "sBzgmW_mD-EW"
      },
      "source": [
        "Bevor wir starten, müssen alle benötigten Packages installiert werden..."
      ]
    },
    {
      "cell_type": "code",
      "execution_count": 1,
      "metadata": {
        "colab": {
          "base_uri": "https://localhost:8080/"
        },
        "id": "Z4xemTTioll_",
        "outputId": "6dd10d76-e46f-4c8b-f537-7adc32bcf457"
      },
      "outputs": [
        {
          "name": "stdout",
          "output_type": "stream",
          "text": [
            "Looking in indexes: https://pypi.org/simple, https://us-python.pkg.dev/colab-wheels/public/simple/\n",
            "Collecting farm-haystack\n",
            "  Downloading farm_haystack-1.6.0-py3-none-any.whl (596 kB)\n",
            "\u001b[K     |████████████████████████████████| 596 kB 29.8 MB/s \n",
            "\u001b[?25hRequirement already satisfied: networkx in /usr/local/lib/python3.7/dist-packages (from farm-haystack) (2.6.3)\n",
            "Collecting quantulum3\n",
            "  Downloading quantulum3-0.7.10-py3-none-any.whl (10.7 MB)\n",
            "\u001b[K     |████████████████████████████████| 10.7 MB 30.6 MB/s \n",
            "\u001b[?25hCollecting azure-core<1.23\n",
            "  Downloading azure_core-1.22.1-py3-none-any.whl (178 kB)\n",
            "\u001b[K     |████████████████████████████████| 178 kB 64.1 MB/s \n",
            "\u001b[?25hCollecting langdetect\n",
            "  Downloading langdetect-1.0.9.tar.gz (981 kB)\n",
            "\u001b[K     |████████████████████████████████| 981 kB 3.4 MB/s \n",
            "\u001b[?25hRequirement already satisfied: torch<1.13,>1.9 in /usr/local/lib/python3.7/dist-packages (from farm-haystack) (1.11.0+cu113)\n",
            "Requirement already satisfied: importlib-metadata in /usr/local/lib/python3.7/dist-packages (from farm-haystack) (4.11.4)\n",
            "Requirement already satisfied: pydantic in /usr/local/lib/python3.7/dist-packages (from farm-haystack) (1.8.2)\n",
            "Collecting tika\n",
            "  Downloading tika-1.24.tar.gz (28 kB)\n",
            "Collecting transformers==4.20.1\n",
            "  Downloading transformers-4.20.1-py3-none-any.whl (4.4 MB)\n",
            "\u001b[K     |████████████████████████████████| 4.4 MB 62.0 MB/s \n",
            "\u001b[?25hRequirement already satisfied: requests in /usr/local/lib/python3.7/dist-packages (from farm-haystack) (2.23.0)\n",
            "Collecting python-docx\n",
            "  Downloading python-docx-0.8.11.tar.gz (5.6 MB)\n",
            "\u001b[K     |████████████████████████████████| 5.6 MB 1.6 MB/s \n",
            "\u001b[?25hRequirement already satisfied: more-itertools in /usr/local/lib/python3.7/dist-packages (from farm-haystack) (8.13.0)\n",
            "Requirement already satisfied: nltk in /usr/local/lib/python3.7/dist-packages (from farm-haystack) (3.7)\n",
            "Requirement already satisfied: scikit-learn>=1.0.0 in /usr/local/lib/python3.7/dist-packages (from farm-haystack) (1.0.2)\n",
            "Requirement already satisfied: jsonschema in /usr/local/lib/python3.7/dist-packages (from farm-haystack) (4.3.3)\n",
            "Requirement already satisfied: pandas in /usr/local/lib/python3.7/dist-packages (from farm-haystack) (1.3.5)\n",
            "Collecting huggingface-hub<0.8.0,>=0.5.0\n",
            "  Downloading huggingface_hub-0.7.0-py3-none-any.whl (86 kB)\n",
            "\u001b[K     |████████████████████████████████| 86 kB 5.5 MB/s \n",
            "\u001b[?25hRequirement already satisfied: scipy>=1.3.2 in /usr/local/lib/python3.7/dist-packages (from farm-haystack) (1.4.1)\n",
            "Collecting elastic-apm\n",
            "  Downloading elastic_apm-6.10.1-cp37-cp37m-manylinux_2_5_x86_64.manylinux1_x86_64.manylinux_2_17_x86_64.manylinux2014_x86_64.whl (381 kB)\n",
            "\u001b[K     |████████████████████████████████| 381 kB 68.4 MB/s \n",
            "\u001b[?25hCollecting rapidfuzz<3,>=2.0.15\n",
            "  Downloading rapidfuzz-2.1.3-cp37-cp37m-manylinux_2_17_x86_64.manylinux2014_x86_64.whl (2.0 MB)\n",
            "\u001b[K     |████████████████████████████████| 2.0 MB 60.4 MB/s \n",
            "\u001b[?25hCollecting elasticsearch<7.11,>=7.7\n",
            "  Downloading elasticsearch-7.10.1-py2.py3-none-any.whl (322 kB)\n",
            "\u001b[K     |████████████████████████████████| 322 kB 70.4 MB/s \n",
            "\u001b[?25hRequirement already satisfied: dill in /usr/local/lib/python3.7/dist-packages (from farm-haystack) (0.3.5.1)\n",
            "Collecting mmh3\n",
            "  Downloading mmh3-3.0.0-cp37-cp37m-manylinux2010_x86_64.whl (50 kB)\n",
            "\u001b[K     |████████████████████████████████| 50 kB 7.2 MB/s \n",
            "\u001b[?25hCollecting sentence-transformers>=2.2.0\n",
            "  Downloading sentence-transformers-2.2.2.tar.gz (85 kB)\n",
            "\u001b[K     |████████████████████████████████| 85 kB 4.6 MB/s \n",
            "\u001b[?25hCollecting azure-ai-formrecognizer==3.2.0b2\n",
            "  Downloading azure_ai_formrecognizer-3.2.0b2-py2.py3-none-any.whl (219 kB)\n",
            "\u001b[K     |████████████████████████████████| 219 kB 330 kB/s \n",
            "\u001b[?25hCollecting mlflow\n",
            "  Downloading mlflow-1.27.0-py3-none-any.whl (17.9 MB)\n",
            "\u001b[K     |████████████████████████████████| 17.9 MB 7.4 MB/s \n",
            "\u001b[?25hCollecting posthog\n",
            "  Downloading posthog-1.4.9-py2.py3-none-any.whl (23 kB)\n",
            "Requirement already satisfied: tqdm in /usr/local/lib/python3.7/dist-packages (from farm-haystack) (4.64.0)\n",
            "Collecting seqeval\n",
            "  Downloading seqeval-1.2.2.tar.gz (43 kB)\n",
            "\u001b[K     |████████████████████████████████| 43 kB 1.8 MB/s \n",
            "\u001b[?25hRequirement already satisfied: six>=1.11.0 in /usr/local/lib/python3.7/dist-packages (from azure-ai-formrecognizer==3.2.0b2->farm-haystack) (1.15.0)\n",
            "Collecting azure-common~=1.1\n",
            "  Downloading azure_common-1.1.28-py2.py3-none-any.whl (14 kB)\n",
            "Collecting msrest>=0.6.21\n",
            "  Downloading msrest-0.7.1-py3-none-any.whl (85 kB)\n",
            "\u001b[K     |████████████████████████████████| 85 kB 4.5 MB/s \n",
            "\u001b[?25hCollecting tokenizers!=0.11.3,<0.13,>=0.11.1\n",
            "  Downloading tokenizers-0.12.1-cp37-cp37m-manylinux_2_12_x86_64.manylinux2010_x86_64.whl (6.6 MB)\n",
            "\u001b[K     |████████████████████████████████| 6.6 MB 49.7 MB/s \n",
            "\u001b[?25hCollecting pyyaml>=5.1\n",
            "  Downloading PyYAML-6.0-cp37-cp37m-manylinux_2_5_x86_64.manylinux1_x86_64.manylinux_2_12_x86_64.manylinux2010_x86_64.whl (596 kB)\n",
            "\u001b[K     |████████████████████████████████| 596 kB 61.0 MB/s \n",
            "\u001b[?25hRequirement already satisfied: filelock in /usr/local/lib/python3.7/dist-packages (from transformers==4.20.1->farm-haystack) (3.7.1)\n",
            "Requirement already satisfied: numpy>=1.17 in /usr/local/lib/python3.7/dist-packages (from transformers==4.20.1->farm-haystack) (1.21.6)\n",
            "Requirement already satisfied: packaging>=20.0 in /usr/local/lib/python3.7/dist-packages (from transformers==4.20.1->farm-haystack) (21.3)\n",
            "Requirement already satisfied: regex!=2019.12.17 in /usr/local/lib/python3.7/dist-packages (from transformers==4.20.1->farm-haystack) (2022.6.2)\n",
            "Requirement already satisfied: urllib3<2,>=1.21.1 in /usr/local/lib/python3.7/dist-packages (from elasticsearch<7.11,>=7.7->farm-haystack) (1.24.3)\n",
            "Requirement already satisfied: certifi in /usr/local/lib/python3.7/dist-packages (from elasticsearch<7.11,>=7.7->farm-haystack) (2022.6.15)\n",
            "Requirement already satisfied: typing-extensions>=3.7.4.3 in /usr/local/lib/python3.7/dist-packages (from huggingface-hub<0.8.0,>=0.5.0->farm-haystack) (4.1.1)\n",
            "Collecting isodate>=0.6.0\n",
            "  Downloading isodate-0.6.1-py2.py3-none-any.whl (41 kB)\n",
            "\u001b[K     |████████████████████████████████| 41 kB 665 kB/s \n",
            "\u001b[?25hCollecting msrest>=0.6.21\n",
            "  Downloading msrest-0.6.21-py2.py3-none-any.whl (85 kB)\n",
            "\u001b[K     |████████████████████████████████| 85 kB 4.6 MB/s \n",
            "\u001b[?25hRequirement already satisfied: requests-oauthlib>=0.5.0 in /usr/local/lib/python3.7/dist-packages (from msrest>=0.6.21->azure-ai-formrecognizer==3.2.0b2->farm-haystack) (1.3.1)\n",
            "Requirement already satisfied: pyparsing!=3.0.5,>=2.0.2 in /usr/local/lib/python3.7/dist-packages (from packaging>=20.0->transformers==4.20.1->farm-haystack) (3.0.9)\n",
            "Collecting jarowinkler<2.0.0,>=1.1.0\n",
            "  Downloading jarowinkler-1.1.2-cp37-cp37m-manylinux_2_17_x86_64.manylinux2014_x86_64.whl (104 kB)\n",
            "\u001b[K     |████████████████████████████████| 104 kB 75.7 MB/s \n",
            "\u001b[?25hRequirement already satisfied: idna<3,>=2.5 in /usr/local/lib/python3.7/dist-packages (from requests->farm-haystack) (2.10)\n",
            "Requirement already satisfied: chardet<4,>=3.0.2 in /usr/local/lib/python3.7/dist-packages (from requests->farm-haystack) (3.0.4)\n",
            "Requirement already satisfied: oauthlib>=3.0.0 in /usr/local/lib/python3.7/dist-packages (from requests-oauthlib>=0.5.0->msrest>=0.6.21->azure-ai-formrecognizer==3.2.0b2->farm-haystack) (3.2.0)\n",
            "Requirement already satisfied: threadpoolctl>=2.0.0 in /usr/local/lib/python3.7/dist-packages (from scikit-learn>=1.0.0->farm-haystack) (3.1.0)\n",
            "Requirement already satisfied: joblib>=0.11 in /usr/local/lib/python3.7/dist-packages (from scikit-learn>=1.0.0->farm-haystack) (1.1.0)\n",
            "Requirement already satisfied: torchvision in /usr/local/lib/python3.7/dist-packages (from sentence-transformers>=2.2.0->farm-haystack) (0.12.0+cu113)\n",
            "Collecting sentencepiece\n",
            "  Downloading sentencepiece-0.1.96-cp37-cp37m-manylinux_2_17_x86_64.manylinux2014_x86_64.whl (1.2 MB)\n",
            "\u001b[K     |████████████████████████████████| 1.2 MB 66.3 MB/s \n",
            "\u001b[?25hRequirement already satisfied: zipp>=0.5 in /usr/local/lib/python3.7/dist-packages (from importlib-metadata->farm-haystack) (3.8.0)\n",
            "Requirement already satisfied: attrs>=17.4.0 in /usr/local/lib/python3.7/dist-packages (from jsonschema->farm-haystack) (21.4.0)\n",
            "Requirement already satisfied: pyrsistent!=0.17.0,!=0.17.1,!=0.17.2,>=0.14.0 in /usr/local/lib/python3.7/dist-packages (from jsonschema->farm-haystack) (0.18.1)\n",
            "Requirement already satisfied: importlib-resources>=1.4.0 in /usr/local/lib/python3.7/dist-packages (from jsonschema->farm-haystack) (5.7.1)\n",
            "Collecting alembic\n",
            "  Downloading alembic-1.8.0-py3-none-any.whl (209 kB)\n",
            "\u001b[K     |████████████████████████████████| 209 kB 72.5 MB/s \n",
            "\u001b[?25hCollecting databricks-cli>=0.8.7\n",
            "  Downloading databricks-cli-0.17.0.tar.gz (81 kB)\n",
            "\u001b[K     |████████████████████████████████| 81 kB 10.4 MB/s \n",
            "\u001b[?25hRequirement already satisfied: sqlparse>=0.3.1 in /usr/local/lib/python3.7/dist-packages (from mlflow->farm-haystack) (0.4.2)\n",
            "Collecting gitpython>=2.1.0\n",
            "  Downloading GitPython-3.1.27-py3-none-any.whl (181 kB)\n",
            "\u001b[K     |████████████████████████████████| 181 kB 64.2 MB/s \n",
            "\u001b[?25hCollecting querystring-parser\n",
            "  Downloading querystring_parser-1.2.4-py2.py3-none-any.whl (7.9 kB)\n",
            "Requirement already satisfied: entrypoints in /usr/local/lib/python3.7/dist-packages (from mlflow->farm-haystack) (0.4)\n",
            "Collecting docker>=4.0.0\n",
            "  Downloading docker-5.0.3-py2.py3-none-any.whl (146 kB)\n",
            "\u001b[K     |████████████████████████████████| 146 kB 70.3 MB/s \n",
            "\u001b[?25hCollecting gunicorn\n",
            "  Downloading gunicorn-20.1.0-py3-none-any.whl (79 kB)\n",
            "\u001b[K     |████████████████████████████████| 79 kB 8.1 MB/s \n",
            "\u001b[?25hRequirement already satisfied: pytz in /usr/local/lib/python3.7/dist-packages (from mlflow->farm-haystack) (2022.1)\n",
            "Requirement already satisfied: cloudpickle in /usr/local/lib/python3.7/dist-packages (from mlflow->farm-haystack) (1.3.0)\n",
            "Requirement already satisfied: sqlalchemy>=1.4.0 in /usr/local/lib/python3.7/dist-packages (from mlflow->farm-haystack) (1.4.37)\n",
            "Requirement already satisfied: click>=7.0 in /usr/local/lib/python3.7/dist-packages (from mlflow->farm-haystack) (7.1.2)\n",
            "Requirement already satisfied: Flask in /usr/local/lib/python3.7/dist-packages (from mlflow->farm-haystack) (1.1.4)\n",
            "Collecting prometheus-flask-exporter\n",
            "  Downloading prometheus_flask_exporter-0.20.2-py3-none-any.whl (18 kB)\n",
            "Requirement already satisfied: protobuf>=3.12.0 in /usr/local/lib/python3.7/dist-packages (from mlflow->farm-haystack) (3.17.3)\n",
            "Collecting pyjwt>=1.7.0\n",
            "  Downloading PyJWT-2.4.0-py3-none-any.whl (18 kB)\n",
            "Requirement already satisfied: tabulate>=0.7.7 in /usr/local/lib/python3.7/dist-packages (from databricks-cli>=0.8.7->mlflow->farm-haystack) (0.8.9)\n",
            "Collecting websocket-client>=0.32.0\n",
            "  Downloading websocket_client-1.3.3-py3-none-any.whl (54 kB)\n",
            "\u001b[K     |████████████████████████████████| 54 kB 2.7 MB/s \n",
            "\u001b[?25hCollecting gitdb<5,>=4.0.1\n",
            "  Downloading gitdb-4.0.9-py3-none-any.whl (63 kB)\n",
            "\u001b[K     |████████████████████████████████| 63 kB 1.9 MB/s \n",
            "\u001b[?25hCollecting smmap<6,>=3.0.1\n",
            "  Downloading smmap-5.0.0-py3-none-any.whl (24 kB)\n",
            "Requirement already satisfied: greenlet!=0.4.17 in /usr/local/lib/python3.7/dist-packages (from sqlalchemy>=1.4.0->mlflow->farm-haystack) (1.1.2)\n",
            "Collecting Mako\n",
            "  Downloading Mako-1.2.1-py3-none-any.whl (78 kB)\n",
            "\u001b[K     |████████████████████████████████| 78 kB 8.2 MB/s \n",
            "\u001b[?25hRequirement already satisfied: Werkzeug<2.0,>=0.15 in /usr/local/lib/python3.7/dist-packages (from Flask->mlflow->farm-haystack) (1.0.1)\n",
            "Requirement already satisfied: Jinja2<3.0,>=2.10.1 in /usr/local/lib/python3.7/dist-packages (from Flask->mlflow->farm-haystack) (2.11.3)\n",
            "Requirement already satisfied: itsdangerous<2.0,>=0.24 in /usr/local/lib/python3.7/dist-packages (from Flask->mlflow->farm-haystack) (1.1.0)\n",
            "Requirement already satisfied: MarkupSafe>=0.23 in /usr/local/lib/python3.7/dist-packages (from Jinja2<3.0,>=2.10.1->Flask->mlflow->farm-haystack) (2.0.1)\n",
            "Requirement already satisfied: setuptools>=3.0 in /usr/local/lib/python3.7/dist-packages (from gunicorn->mlflow->farm-haystack) (57.4.0)\n",
            "Requirement already satisfied: python-dateutil>=2.7.3 in /usr/local/lib/python3.7/dist-packages (from pandas->farm-haystack) (2.8.2)\n",
            "Collecting backoff<2.0.0,>=1.10.0\n",
            "  Downloading backoff-1.11.1-py2.py3-none-any.whl (13 kB)\n",
            "Collecting monotonic>=1.5\n",
            "  Downloading monotonic-1.6-py2.py3-none-any.whl (8.2 kB)\n",
            "Requirement already satisfied: prometheus-client in /usr/local/lib/python3.7/dist-packages (from prometheus-flask-exporter->mlflow->farm-haystack) (0.14.1)\n",
            "Requirement already satisfied: lxml>=2.3.2 in /usr/local/lib/python3.7/dist-packages (from python-docx->farm-haystack) (4.2.6)\n",
            "Requirement already satisfied: inflect in /usr/local/lib/python3.7/dist-packages (from quantulum3->farm-haystack) (2.1.0)\n",
            "Collecting num2words\n",
            "  Downloading num2words-0.5.10-py3-none-any.whl (101 kB)\n",
            "\u001b[K     |████████████████████████████████| 101 kB 11.8 MB/s \n",
            "\u001b[?25hRequirement already satisfied: docopt>=0.6.2 in /usr/local/lib/python3.7/dist-packages (from num2words->quantulum3->farm-haystack) (0.6.2)\n",
            "Requirement already satisfied: pillow!=8.3.*,>=5.3.0 in /usr/local/lib/python3.7/dist-packages (from torchvision->sentence-transformers>=2.2.0->farm-haystack) (7.1.2)\n",
            "Building wheels for collected packages: sentence-transformers, langdetect, databricks-cli, python-docx, seqeval, tika\n",
            "  Building wheel for sentence-transformers (setup.py) ... \u001b[?25l\u001b[?25hdone\n",
            "  Created wheel for sentence-transformers: filename=sentence_transformers-2.2.2-py3-none-any.whl size=125938 sha256=0ae34f0bbdf7365ce515052489722bb58e0c6c460a19efac883bf351e033809c\n",
            "  Stored in directory: /root/.cache/pip/wheels/bf/06/fb/d59c1e5bd1dac7f6cf61ec0036cc3a10ab8fecaa6b2c3d3ee9\n",
            "  Building wheel for langdetect (setup.py) ... \u001b[?25l\u001b[?25hdone\n",
            "  Created wheel for langdetect: filename=langdetect-1.0.9-py3-none-any.whl size=993242 sha256=583e92758df74d9bf1055db762a2b462e34f891355a6c165399f340ac4b45827\n",
            "  Stored in directory: /root/.cache/pip/wheels/c5/96/8a/f90c59ed25d75e50a8c10a1b1c2d4c402e4dacfa87f3aff36a\n",
            "  Building wheel for databricks-cli (setup.py) ... \u001b[?25l\u001b[?25hdone\n",
            "  Created wheel for databricks-cli: filename=databricks_cli-0.17.0-py3-none-any.whl size=141960 sha256=90761819f20ae3d182bbdd8e18f62d6407659de86c3ce83fdd23fbcbca9de37c\n",
            "  Stored in directory: /root/.cache/pip/wheels/55/c3/db/33705569425fd2bdc9ea73051a8053fa26965c2bce8a146747\n",
            "  Building wheel for python-docx (setup.py) ... \u001b[?25l\u001b[?25hdone\n",
            "  Created wheel for python-docx: filename=python_docx-0.8.11-py3-none-any.whl size=184507 sha256=489ee321466a69c0620d4df52f31d7a8d38f561b4ba59964b79d658ad9b097fd\n",
            "  Stored in directory: /root/.cache/pip/wheels/f6/6f/b9/d798122a8b55b74ad30b5f52b01482169b445fbb84a11797a6\n",
            "  Building wheel for seqeval (setup.py) ... \u001b[?25l\u001b[?25hdone\n",
            "  Created wheel for seqeval: filename=seqeval-1.2.2-py3-none-any.whl size=16180 sha256=858f7811f06de5b8a76293935eb8b835ae8dd4109cbf9be4bc010190c2e13df6\n",
            "  Stored in directory: /root/.cache/pip/wheels/05/96/ee/7cac4e74f3b19e3158dce26a20a1c86b3533c43ec72a549fd7\n",
            "  Building wheel for tika (setup.py) ... \u001b[?25l\u001b[?25hdone\n",
            "  Created wheel for tika: filename=tika-1.24-py3-none-any.whl size=32893 sha256=becaa0f7dcb0aa1f4fb523a8c9875f3b9723997fa4c7103c3267b3c87e4cf850\n",
            "  Stored in directory: /root/.cache/pip/wheels/ec/2b/38/58ff05467a742e32f67f5d0de048fa046e764e2fbb25ac93f3\n",
            "Successfully built sentence-transformers langdetect databricks-cli python-docx seqeval tika\n",
            "Installing collected packages: smmap, pyyaml, websocket-client, tokenizers, pyjwt, Mako, isodate, huggingface-hub, gitdb, transformers, sentencepiece, querystring-parser, prometheus-flask-exporter, num2words, msrest, monotonic, jarowinkler, gunicorn, gitpython, docker, databricks-cli, backoff, azure-core, azure-common, alembic, tika, seqeval, sentence-transformers, rapidfuzz, quantulum3, python-docx, posthog, mmh3, mlflow, langdetect, elasticsearch, elastic-apm, azure-ai-formrecognizer, farm-haystack\n",
            "  Attempting uninstall: pyyaml\n",
            "    Found existing installation: PyYAML 3.13\n",
            "    Uninstalling PyYAML-3.13:\n",
            "      Successfully uninstalled PyYAML-3.13\n",
            "Successfully installed Mako-1.2.1 alembic-1.8.0 azure-ai-formrecognizer-3.2.0b2 azure-common-1.1.28 azure-core-1.22.1 backoff-1.11.1 databricks-cli-0.17.0 docker-5.0.3 elastic-apm-6.10.1 elasticsearch-7.10.1 farm-haystack-1.6.0 gitdb-4.0.9 gitpython-3.1.27 gunicorn-20.1.0 huggingface-hub-0.7.0 isodate-0.6.1 jarowinkler-1.1.2 langdetect-1.0.9 mlflow-1.27.0 mmh3-3.0.0 monotonic-1.6 msrest-0.6.21 num2words-0.5.10 posthog-1.4.9 prometheus-flask-exporter-0.20.2 pyjwt-2.4.0 python-docx-0.8.11 pyyaml-6.0 quantulum3-0.7.10 querystring-parser-1.2.4 rapidfuzz-2.1.3 sentence-transformers-2.2.2 sentencepiece-0.1.96 seqeval-1.2.2 smmap-5.0.0 tika-1.24 tokenizers-0.12.1 transformers-4.20.1 websocket-client-1.3.3\n"
          ]
        }
      ],
      "source": [
        "# Install the latest release of Haystack in your own environment \n",
        "! pip install farm-haystack\n",
        "\n",
        "# Install the latest master of Haystack\n",
        "#!pip install git+https://github.com/deepset-ai/haystack.git\n",
        "#!pip install urllib3==1.25.4"
      ]
    },
    {
      "cell_type": "code",
      "execution_count": 2,
      "metadata": {
        "id": "eh0NzUlApuAb"
      },
      "outputs": [],
      "source": [
        "# In Colab / No Docker environments: Start Elasticsearch from source\n",
        "! wget https://artifacts.elastic.co/downloads/elasticsearch/elasticsearch-7.9.2-linux-x86_64.tar.gz -q\n",
        "! tar -xzf elasticsearch-7.9.2-linux-x86_64.tar.gz\n",
        "! chown -R daemon:daemon elasticsearch-7.9.2\n",
        "\n",
        "import os\n",
        "from subprocess import Popen, PIPE, STDOUT\n",
        "es_server = Popen(['elasticsearch-7.9.2/bin/elasticsearch'],\n",
        "                   stdout=PIPE, stderr=STDOUT,\n",
        "                   preexec_fn=lambda: os.setuid(1)  # as daemon\n",
        "                  )\n",
        "# wait until ES has started\n",
        "! sleep 30"
      ]
    },
    {
      "cell_type": "code",
      "execution_count": 3,
      "metadata": {
        "id": "0WT8K9lXFF_X"
      },
      "outputs": [],
      "source": [
        "# Importieren aller Module\n",
        "from haystack.utils import print_answers\n",
        "from haystack.nodes import PreProcessor, TextConverter\n",
        "from haystack.nodes import ElasticsearchRetriever\n",
        "from haystack.pipelines import ExtractiveQAPipeline\n",
        "from haystack.utils import clean_wiki_text, convert_files_to_docs, fetch_archive_from_http, print_answers\n",
        "from haystack.nodes import FARMReader, TransformersReader"
      ]
    },
    {
      "cell_type": "markdown",
      "metadata": {
        "id": "x-2DpYBqE8yH"
      },
      "source": [
        "## Harry Potter-QA"
      ]
    },
    {
      "cell_type": "markdown",
      "metadata": {
        "id": "Vc58a24ZEGSG"
      },
      "source": [
        "### Schritt 1: Mit Elasticsearch einen DocumentStore anlegen. \n",
        "Der Index kann beliebig benannt werden (z.B. ```hp_document_store```)"
      ]
    },
    {
      "cell_type": "code",
      "execution_count": 4,
      "metadata": {
        "colab": {
          "base_uri": "https://localhost:8080/"
        },
        "id": "AZDfAHoPpy0Z",
        "outputId": "91c2d507-b1ab-44dd-9abd-71424063219a"
      },
      "outputs": [
        {
          "name": "stderr",
          "output_type": "stream",
          "text": [
            "INFO - haystack.telemetry -  Haystack sends anonymous usage data to understand the actual usage and steer dev efforts towards features that are most meaningful to users. You can opt-out at anytime by calling disable_telemetry() or by manually setting the environment variable HAYSTACK_TELEMETRY_ENABLED as described for different operating systems on the documentation page. More information at https://haystack.deepset.ai/guides/telemetry\n"
          ]
        }
      ],
      "source": [
        "# Connect to Elasticsearch\n",
        "from haystack.document_stores import ElasticsearchDocumentStore\n",
        "hp_document_store = ElasticsearchDocumentStore(host=\"localhost\", username=\"\", password=\"\", index=\"hp_document_store\")"
      ]
    },
    {
      "cell_type": "markdown",
      "metadata": {
        "id": "4uNoKoDbaRML"
      },
      "source": [
        "### Schritt 2: Vorverarbeiten der Textdateien"
      ]
    },
    {
      "cell_type": "markdown",
      "metadata": {
        "id": "X0GQbUSLFKym"
      },
      "source": [
        "Mit ```convert_files_to_dicts``` werden alle Textdateien in einem Ordner in das von Elasticsearch benötigte Dictionary-Format umgewandelt..."
      ]
    },
    {
      "cell_type": "code",
      "execution_count": 5,
      "metadata": {
        "colab": {
          "base_uri": "https://localhost:8080/"
        },
        "id": "kYLWLJ1ly-Kg",
        "outputId": "ee37b6bc-d1cc-4d28-e07c-ec8833abd4a0"
      },
      "outputs": [
        {
          "name": "stderr",
          "output_type": "stream",
          "text": [
            "INFO - haystack.utils.preprocessing -  Converting /content/potter/hp5.txt\n",
            "INFO - haystack.utils.preprocessing -  Converting /content/potter/hp6.txt\n",
            "INFO - haystack.utils.preprocessing -  Converting /content/potter/hp7.txt\n",
            "INFO - haystack.utils.preprocessing -  Converting /content/potter/hp2.txt\n",
            "INFO - haystack.utils.preprocessing -  Converting /content/potter/hp1.txt\n",
            "INFO - haystack.utils.preprocessing -  Converting /content/potter/hp3.txt\n",
            "INFO - haystack.utils.preprocessing -  Converting /content/potter/hp4.txt\n"
          ]
        }
      ],
      "source": [
        "all_hp_books = convert_files_to_docs(dir_path=\"/content/potter\")\n",
        "\n"
      ]
    },
    {
      "cell_type": "markdown",
      "metadata": {
        "id": "Y1BbwxbhFYMe"
      },
      "source": [
        "Nach diesem Schritt liegen sieben Dictionaries vor, die jeweils den kompletten Text eines Buches beinhalten. Um die Retriever-Reader-Performance zu steigern, empfiehlt es sich, diese großen Dokumente in kleinere zu untergliedern und die rohen Textdateien vorzuverarbeiten. Genaue Infos zu den einzelnen Parametern können Sie der [Preprocessing-Seite](https://haystack.deepset.ai/tutorials/preprocessing) sowie den Empfehlungen zur [Optimierung](https://haystack.deepset.ai/guides/optimization) entnehmen."
      ]
    },
    {
      "cell_type": "code",
      "execution_count": 6,
      "metadata": {
        "colab": {
          "base_uri": "https://localhost:8080/"
        },
        "id": "uqgV9Ztc1RIl",
        "outputId": "bf4dd30d-1b7c-4030-e588-6abab8aaa619"
      },
      "outputs": [
        {
          "name": "stderr",
          "output_type": "stream",
          "text": [
            "[nltk_data] Downloading package punkt to /root/nltk_data...\n",
            "[nltk_data]   Unzipping tokenizers/punkt.zip.\n",
            "/usr/local/lib/python3.7/dist-packages/ipykernel_launcher.py:10: DeprecationWarning: Using a single Document as argument to the 'documents' parameter is deprecated. Use a list of (a single) Document instead.\n",
            "  # Remove the CWD from sys.path while we load stuff.\n"
          ]
        },
        {
          "name": "stdout",
          "output_type": "stream",
          "text": [
            "[<Document: {'content': 'Harry Potter and the Order of the Phoenix\\nBy J.K. Rowling\\nCHAPTER ONE\\nDudley Demented\\nThe hottest day of the summer so far was drawing to a close and a drowsy silence lay over the large, square houses of Privet Drive. Cars that were usually gleaming stood dusty in their drives\\nand lawns that were once emerald green lay parched and yellowing; the use of hosepipes had\\nbeen banned due to drought. Deprived of their usual car-washing and lawn-mowing pursuits, the\\ninhabitants of Privet Drive had retreated into the shade of their cool houses, windows thrown\\nwide in the hope of tempting in a nonexistent breeze. The only person left outdoors was a\\nteenage boy who was lying flat on his back in a flowerbed outside number four. He was a skinny, black-haired, bespectacled boy who had the pinched, slightly unhealthy look of\\nsomeone who has grown a lot in a short space of time. His jeans were torn and dirty, his T-shirt\\nbaggy and faded, and the soles of his trainers were peeling away from the uppers. Harry Potter’s\\nappearance did not endear him to the neighbors, who were the sort of people who thought\\nscruffiness ought to be punishable by law, but as he had hidden himself behind a large hydrangea\\nbush this evening he was quite invisible to passers-by. In fact, the only way he would be spotted\\nwas if his Uncle Vernon or Aunt Petunia stuck their heads out of the living-room window and\\nlooked straight down into the flowerbed below. On the whole, Harry thought he was to be congratulated on his idea of hiding here. He was not,\\nperhaps, very comfortable lying on the hot, hard earth but, on the other hand, nobody was glaring\\nat him, grinding their teeth so loudly that he could not hear the news, or shooting nasty questions\\nat him, as had happened every time he had tried sitting down in the living room to watch\\ntelevision with his aunt and uncle. Almost as though this thought had fluttered through the open window, Vernon Dursley, Harry’s\\nuncle, suddenly spoke. \"Glad to see the boy’s stopped trying to butt in. Where is he, anyway?\" \"I don’t know,\" said Aunt Petunia, unconcerned. \"Not in the house.\" Uncle Vernon grunted. \"Watching the news...\" he said scathingly. \"I’d like to know what he’s really up to. As if a\\nnormal boy cares what’s on the news - Dudley hasn’t got a clue what’s going on; doubt he knows\\nwho the Prime Minister is! Anyway, it’s not as if there’d be anything about his lot on our news-\"\\n\"Vernon, shh!\" said Aunt Petunia. \"The window’s open!\" \"Oh - yes - sorry, dear.\" The Dursleys fell silent. Harry listened to a jingle about Fruit ‘n’ Bran breakfast cereal while he\\nwatched Mrs. Figg, a batty cat-loving old lady from nearby Wisteria Walk, amble slowly past. She was frowning and muttering to herself. Harry was very pleased he was concealed behind the\\nbush, as Mrs. Figg had recently taken to asking him around for tea whenever she met him in the\\nstreet. She had rounded the corner and vanished from view before Uncle Vernon’s voice floated\\nout of the window again. \"Dudders out for tea?\" \"At the Polkisses’,\" said Aunt Petunia fondly. \"He’s got so many little friends, he’s so popular.\" Harry suppressed a snort with difficulty. The Dursleys really were astonishingly stupid about\\ntheir son, Dudley. They had swallowed all his dim-witted lies about having tea with a different\\nmember of his gang every night of the summer holidays. Harry knew perfectly well that Dudley\\nhad not been to tea anywhere; he and his gang spent every evening vandalizing the play park,\\nsmoking on street corners and throwing stones at passing cars and children. Harry had seen them\\nat it during his evening walks around Little Whinging; he had spent most of the holidays\\nwandering the streets, scavenging newspapers from bins along the way. The opening notes of the music that heralded the seven o’clock news reached Harry’s ears and\\nhis stomach turned over. Perhaps tonight - after a month of waiting - would be the night. \"Record numbers of stranded holiday makers fill air ports as the Spanish baggage-handlers’ strike reaches its second week -\"\\n\"Give ‘em a lifelong siesta, I would,\" snarled Uncle Vernon over the end of the newsreader’s\\nsentence, but no matter: outside in the flowerbed, Harry’s stomach seemed to unclench. If\\nanything had happened, it would surely have been the first item on the news; death and\\ndestruction were more important than stranded holidaymakers. He let out a long, slow breath and stared up at the brilliant blue sky. Every day this summer had\\nbeen the same: the tension, the expectation, the temporary relief, and then mounting tension\\nagain... and always, growing more insistent all the time, the question of why nothing had\\nhappened yet. He kept listening, just in case there was some small clue, not recognized for what it really was by\\nthe Muggles - an unexplained disappearance, perhaps, or some strange accident... but the\\nbaggage-handlers’ strike was followed by news about the drought in the Southeast (\"I hope he’s\\nlistening next door!\" bellowed Uncle Vernon. \"Him with his sprinklers on at three in the\\nmorning! \"), then a helicopter that had almost crashed in a field in Surrey, then a famous actress’s\\ndivorce from her famous husband (\"As if we’re interested in their sordid affairs,\" sniffed Aunt\\nPetunia, who had followed the case obsessively in every magazine she could lay her bony hands\\non). Harry closed his eyes against the now blazing evening sky as the newsreader said, \"-and finally,\\nBungy the budgie has found a novel way of keeping cool this summer. Bungy, who lives at the\\nFive Feathers in Barnsley, has learned to water ski! Mary Dorkins went to find out more.\" Harry opened his eyes. If they had reached water-skiing budgerigars, there would be nothing else\\nworth hearing. He rolled cautiously on to his front and raised himself on to his knees and elbows,\\npreparing to crawl out from under the window. He had moved about two inches when several things happened in very quick succession. A loud, echoing crack broke the sleepy silence like a gunshot; a cat streaked out from under a\\nparked car and flew out of sight; a shriek, a bellowed oath and the sound of breaking china came\\nfrom the Dursleys’ living room, and as though this was the signal Harry had been waiting for he\\njumped to his feet, at the same time pulling from the waistband of his jeans a thin wooden wand\\nas if he were unsheathing a sword - but before he could draw himself up to full height, the top of\\nhis head collided with the Dursleys’ open window. The resultant crash made Aunt Petunia\\nscream even louder. Harry felt as though his head had been split in two. Eyes streaming, he swayed, trying to focus\\non the street to spot the source of the noise, but he had barely staggered upright when two large\\npurple hands reached through the open window and closed tightly around his throat. \"Put - it-away!\" Uncle Vernon snarled into Harry’s ear. \"Now! Before- anyone - sees!\" \"Get - off - me!\" Harry gasped. For a few seconds they struggled, Harry pulling at his uncles\\nsausage-like fingers with his left hand, his right maintaining a firm grip on his raised wand; then,\\nas the pain in the top of Harry’s head gave a particularly nasty throb, Uncle Vernon yelped and\\nreleased Harry as though he had received an electric shock. Some invisible force seemed to have\\nsurged through his nephew, making him impossible to hold. Panting, Harry fell forwards over the hydrangea bush, straightened up and stared around. There\\nwas no sign of what had caused the loud cracking noise, but there were several faces peering\\nthrough various nearby windows. Harry stuffed his wand hastily back into his jeans and tried to\\nlook innocent. \"Lovely evening!\" shouted Uncle Vernon, waving at Mrs. Number Seven, who was glaring from behind her net curtains. \"Did you hear that car backfire just now? Gave Petunia and me quite a turn!\" He continued to grin in a horrible, manic way until all the curious neighbors had disappeared\\nfrom their various windows, then the grin became a grimace of rage as he beckoned Harry back\\ntowards him. Harry moved a few steps closer, taking care to stop just short of the point at which Uncle\\nVernon’s outstretched hands could resume their strangling. \"What the devil do you mean by it, boy?\" asked Uncle Vernon in a croaky voice that trembled\\nwith fury. \"What do I mean by what?\" said Harry coldly. He kept looking left and right up the street, still\\nhoping to see the person who had made the cracking noise. \"Making a racket like a starting pistol right outside our -\"\\n\"I didn’t make that noise,\" said Harry firmly. Aunt Petunia’s thin, horsy face now appeared beside Uncle Vernon’s wide, purple one. She\\nlooked livid. \"Why were you lurking under our window?\" \"Yes - yes, good point, Petunia! What were you doing under our window, boy?\" \"Listening to the news,\" said Harry in a resigned voice. His aunt and uncle exchanged looks of outrage. \"Listening to the news! Again?\" \"Well, it changes every day, you see,\" said Harry. \"Don’t you be clever with me, boy! I want to know what you’re really up to - and don’t give me\\nany more of this listening to the news tosh! You know perfectly well that your lot -\"\\n\"Careful, Vernon!\" breathed Aunt Petunia, and Uncle Vernon lowered his voice so that Harry\\ncould barely hear him, \"-that your lot don’t get on our news!\" \"That’s all you know,\" said Harry. The Dursleys goggled at him for a few seconds, then Aunt Petunia said, \"You’re a nasty little\\nliar. What are all those -\" she, too, lowered her voice so that Harry had to lip-read the next word,\\n\"- owls doing if they’re not bringing you news?\" \"Aha!\" said Uncle Vernon in a triumphant whisper.', 'content_type': 'text', 'score': None, 'meta': {'name': 'hp5.txt', '_split_id': 0}, 'embedding': None, 'id': '8338bb4567b9b73d17640a88e917dd3d'}>, <Document: {'content': '\"Aha!\" said Uncle Vernon in a triumphant whisper. \"Get out of that one, boy! As if we didn’t\\nknow you get all your news from those pestilential birds!\" Harry hesitated for a moment. It cost him something to tell the truth this time, even though his\\naunt and uncle could not possibly know how bad he felt at admitting it. \"The owls... aren’t bringing me news,\" he said tonelessly. \"I don’t believe it,\" said Aunt Petunia at once. \"No more do I,\" said Uncle Vernon forcefully. \"We know you’re up to something funny,\" said Aunt Petunia. \"We’re not stupid, you know,\" said Uncle Vernon. \"Well, that’s news to me,\" said Harry, his temper rising, and before the Dursleys could call him\\nback, he had wheeled about, crossed the front lawn, stepped over the low garden wall and was\\nstriding off up the street. He was in trouble now and he knew it. He would have to face his aunt and uncle later and pay\\nthe price for his rudeness, but he did not care very much just at the moment; he had much more\\npressing matters on his mind. Harry was sure the cracking noise had been made by someone Apparating or Disapparating. It\\nwas exactly the sound Dobby the house-elf made when he vanished into thin air. Was it possible\\nthat Dobby was here in Privet Drive? Could Dobby be following him right at this very moment? As this thought occurred he wheeled around and stared back down Privet Drive, but it appeared\\nto be completely deserted and Harry was sure that Dobby did not know how to become invisible. He walked on, hardly aware of the route he was taking, for he had pounded these streets so often\\nlately that his feet carried him to his favorite haunts automatically. Every few steps he glanced\\nback over his shoulder. Someone magical had been near him as he lay among Aunt Petunia’s\\ndying begonias, he was sure of it. Why hadn’t they spoken to him, why hadn’t they made\\ncontact, why were they hiding now? And then, as his feeling of frustration peaked, his certainty leaked away. Perhaps it hadn’t been a magical sound after all. Perhaps he was so desperate for the tiniest sign\\nof contact from the world to which he belonged that he was simply overreacting to perfectly\\nordinary noises. Could he be sure it hadn’t been the sound of something breaking inside a\\nneighbor’s house? Harry felt a dull, sinking sensation in his stomach and before he knew it the feeling of\\nhopelessness that had plagued him all summer rolled over him once again. Tomorrow morning he would be woken by the alarm at five o’clock so he could pay the owl that\\ndelivered the Daily Prophet - but was there any point continuing to take it? Harry merely glanced at the front page before throwing it aside these days; when the idiots who ran the paper finally realized that Voldemort was back it would be headline news, and that was the only kind Harry cared about. If he was lucky, there would also be owls carrying letters from his best friends Ron and\\nHermione, though any expectation he’d had that their letters would bring him news had long\\nsince been dashed. We can’t say much about you-know-what, obviously... We’ve been told not to say anything\\nimportant in case our letters go astray... We’re quite busy but I can’t give you details here...\\nThere’s a fair amount going on, we’ll tell you everything when we see you... But when were they going to see him? Nobody seemed too bothered with a precise date. Hermione had scribbled I expect we’ll be seeing you quite soon inside his birthday card, but how\\nsoon was soon? As far as Harry could tell from the vague hints in their letters, Hermione and\\nRon were in the same place, presumably at Ron’s parents’ house. He could hardly bear to think\\nof the pair of them having fun at The Burrow when he was stuck in Privet Drive. In fact, he was\\nso angry with them he had thrown away, unopened, the two boxes of Honeydukes chocolates\\nthey’d sent him for his birthday. He’d regretted it later, after the wilted salad Aunt Petunia had\\nprovided for dinner that night. And what were Ron and Hermione busy with? Why wasn’t he, Harry, busy? Hadn’t he proved\\nhimself capable of handling much more than them? Had they all forgotten what he had done? Hadn’t it been he who had entered that graveyard and watched Cedric being murdered, and been\\ntied to that tombstone and nearly killed? Don’t think about that, Harry told himself sternly for the hundredth time that summer. It was bad\\nenough that he kept revisiting the graveyard in his nightmares, without dwelling on it in his\\nwaking moments too. He turned a corner into Magnolia Crescent; halfway along he passed the narrow alleyway down\\nthe side of a garage where he had first clapped eyes on his godfather. Sirius, at least, seemed to\\nunderstand how Harry was feeling. Admittedly, his letters were just as empty of proper news as\\nRon and Hermione’s, but at least they contained words of caution and consolation instead of\\ntantalizing hints:\\nI know this must be frustrating for you... Keep your nose clean and everything will be okay... Be\\ncareful and don’t do anything rash...\\nWell, thought Harry, as he crossed Magnolia Crescent, turned into Magnolia Road and headed\\ntowards the darkening play park, he had (by and large) done as Sirius advised. He had at least\\nresisted the temptation to tie his trunk to his broomstick and set off for The Burrow by himself. In fact, Harry thought his behavior had been very good considering how frustrated and angry he\\nfelt at being stuck in Privet Drive so long, reduced to hiding in flowerbeds in the hope of hearing\\nsomething that might point to what Lord Voldemort was doing. Nevertheless, it was quite galling\\nto be told not to be rash by a man who had served twelve years in the wizard prison, Azkaban,\\nescaped, attempted to commit the murder he had been convicted for in the first place, then gone\\non the run with a stolen Hippogriff. Harry vaulted over the locked park gate and set off across the parched grass. The park was as\\nempty as the surrounding streets. When he reached the swings he sank on to the only one that\\nDudley and his friends had not yet managed to break, coiled one arm around the chain and stared\\nmoodily at the ground. He would not be able to hide in the Dursleys’ flowerbed again. Tomorrow, he would have to think of some fresh way of listening to the news. In the meantime,\\nhe had nothing to look forward to but another restless, disturbed night, because even when he\\nescaped the nightmares about Cedric he had unsettling dreams about long dark corridors, all\\nfinishing in dead ends and locked doors, which he supposed had something to do with the\\ntrapped feeling he had when he was awake. Often the old scar on his forehead prickled\\nuncomfortably, but he did not fool himself that Ron or Hermione or Sirius would find that very\\ninteresting any more. In the past, his scar hurting had warned that Voldemort was getting\\nstronger again, but now that Voldemort was back they would probably remind him that its\\nregular irritation was only to be expected... nothing to worry about... old news... The injustice of it all welled up inside him so that he wanted to yell with fury. If it hadn’t been\\nfor him, nobody would even have known Voldemort was back! And his reward was to be stuck\\nin Little Whinging for four solid weeks, completely cut off from the magical world, reduced to\\nsquatting among dying begonias so that he could hear about water-skiing budgerigars! How\\ncould Dumbledore have forgotten him so easily? Why had Ron and Hermione got together\\nwithout inviting him along, too? How much longer was he supposed to endure Sirius telling him\\nto sit tight and be a good boy; or resist the temptation to write to the stupid Daily Prophet and\\npoint out that Voldemort had returned? These furious thoughts whirled around in Harry’s head,\\nand his insides writhed with anger as a sultry, velvety night fell around him, the air full of the\\nsmell of warm, dry grass, and the only sound that of the low grumble of traffic on the road\\nbeyond the park railings. He did not know how long he had sat on the swing before the sound of voices interrupted his\\nmusings and he looked up. The streetlamps from the surrounding roads were casting a misty\\nglow strong enough to silhouette a group of people making their way across the park. One of\\nthem was singing a loud, crude song. The others were laughing. A soft ticking noise came from\\nseveral expensive racing bikes that they were wheeling along. Harry knew who those people were. The figure in front was unmistakeably his cousin, Dudley\\nDursley, wending his way home, accompanied by his faithful gang. Dudley was as vast as ever, but a year’s hard dieting and the discovery of a new talent had\\nwrought quite a change in his physique. As Uncle Vernon delightedly told anyone who would\\nlisten, Dudley had recently become the Junior Heavyweight Inter-School Boxing Champion of\\nthe Southeast. ‘The noble sport’, as Uncle Vernon called it, had made Dudley even more\\nformidable than he had seemed to Harry in their primary school days when he had served as\\nDudley’s first punching bag. Harry was not remotely afraid of his cousin any more but he still didn’t think that Dudley learning to punch harder and more accurately was cause for celebration. Neighborhood children all around were terrified of him - even more terrified than they were of\\n‘that Potter boy’ who, they had been warned, was a hardened hooligan and attended St. Brutus’s\\nSecure Center for Incurably Criminal Boys. Harry watched the dark figures crossing the grass and wondered who they had been beating up\\ntonight. Look round, Harry found himself thinking as he watched them. Come on... look\\nround... I’m sitting here all alone... come and have a go... If Dudley’s friends saw him sitting here, they would be sure to make a beeline for him and what\\nwould Dudley do then? He wouldn’t want to lose face in front of the gang, but he’d be terrified\\nof provoking Harry... it would be really fun to watch Dudley’s dilemma, to taunt him, watch\\nhim, with him powerless to respond... and if any of the others tried hitting Harry, he was ready -\\nhe had his wand. Let them try... he’d love to vent some of his frustration on the boys who had\\nonce made his life hell. But they didn’t turn around, they didn’t see him, they were almost at the railings. Harry mastered\\nthe impulse to call after them... seeking a fight was not a smart move... he must not use magic...\\nhe would be risking expulsion again. The voices of Dudley’s gang died away; they were out of sight, heading along Magnolia Road. There you go, Sirius, Harry thought dully. Nothing rash. Kept my nose clean. Exactly the\\nopposite of what you’d have done. He got to his feet and stretched. Aunt Petunia and Uncle Vernon seemed to feel that whenever\\nDudley turned up was the right time to be home, and any time after that was much too late. Uncle Vernon had threatened to lock Harry in the shed if he came home after Dudley ever again,\\nso, stifling a yawn, and still scowling, Harry set off towards the park gate. Magnolia Road, like Privet Drive, was full of large, square houses with perfectly manicured\\nlawns, all owned by large, square owners who drove very clean cars similar to Uncle Vernon’s. Harry preferred Little Whinging by night, when the curtained windows made patches of jewel bright color in the darkness and he ran no danger of hearing disapproving mutters about his ‘delinquent’ appearance when he passed the householders. He walked quickly, so that halfway along Magnolia Road Dudley’s gang came into view again; they were saying their farewells at the entrance to Magnolia Crescent. Harry stepped into the shadow of a large lilac tree and waited. \"... squealed like a pig, didn’t he?\"', 'content_type': 'text', 'score': None, 'meta': {'name': 'hp5.txt', '_split_id': 1}, 'embedding': None, 'id': '2f1792e5289bd8a142257e0f08c4edc4'}>, <Document: {'content': 'Harry stepped into the shadow of a large lilac tree and waited. \"... squealed like a pig, didn’t he?\" Malcolm was saying, to guffaws from the others. \"Nice right hook, Big D,\" said Piers. \"Same time tomorrow?\" said Dudley. \"Round at my place, my parents will be out,\" said Gordon. \"See you then,\" said Dudley. \"Bye, Dud!\" \"See ya, Big D!\" Harry waited for the rest of the gang to move on before setting off again. When their voices had\\nfaded once more he headed around the corner into Magnolia Crescent and by walking very\\nquickly he soon came within hailing distance of Dudley, who was strolling along at his ease,\\nhumming tunelessly. \"Hey, Big D!\" Dudley turned. \"Oh,\" he grunted. \"It’s you.\" \"How long have you been ‘Big D’ then?\" said Harry. \"Shut it,\" snarled Dudley, turning away. \"Cool name,\" said Harry, grinning and falling into step beside his cousin. \"But you’ll always be\\n‘Ickle Diddykins’ to me.\" \"I said, SHUT IT!\" said Dudley, whose ham-like hands had curled into fists. \"Don’t the boys know that’s what your mum calls you?\" \"Shut your face.\" \"You don’t tell her to shut her face. What about ‘Popkin’ and ‘Dinky Diddydums’, can I use\\nthem then?\" Dudley said nothing. The effort of keeping himself from hitting Harry seemed to demand all his\\nself-control. \"So who’ve you been beating up tonight?\" Harry asked, his grin fading. \"Another ten-year-old? I\\nknow you did Mark Evans two nights ago -\"\\n\"He was asking for it,\" snarled Dudley. \"Oh yeah?\" \"He cheeked me.\" \"Yeah? Did he say you look like a pig that’s been taught to walk on its hind legs? Cause that’s\\nnot cheek, Dud, that’s true.\" A muscle was twitching in Dudley’s jaw. It gave Harry enormous satisfaction to know how\\nfurious he was making Dudley; he felt as though he was siphoning off his own frustration into\\nhis cousin, the only outlet he had. They turned right down the narrow alleyway where Harry had first seen Sirius and which formed\\na short cut between Magnolia Crescent and Wisteria Walk. It was empty and much darker than\\nthe streets it linked because there were no streetlamps. Their footsteps were muffled between\\ngarage walls on one side and a high fence on the other. \"Think you’re a big man carrying that thing, don’t you?\" Dudley said after a few seconds. \"What thing?\" \"That - that thing you are hiding.\" Harry grinned again. \"Not as stupid as you look, are you, Dud? But I s’pose, if you were, you wouldn’t be able to walk and talk at the same time.\" Harry pulled out his wand. He saw Dudley look sideways at it. \"You’re not allowed,\" Dudley said at once. \"I know you’re not. You’d get expelled from that\\nfreak school you go to.\" \"How d’you know they haven’t changed the rules, Big D?\" \"They haven’t,\" said Dudley, though he didn’t sound completely convinced. Harry laughed softly. \"You haven’t got the guts to take me on without that thing, have you?\" Dudley snarled. \"Whereas you just need four mates behind you before you can beat up a ten year old. You know\\nthat boxing title you keep banging on about? How old was your opponent? Seven? Eight?\" \"He was sixteen, for your information,\" snarled Dudley, \"and he was out cold for twenty minutes\\nafter I’d finished with him and he was twice as heavy as you. You just wait till I tell Dad you had\\nthat thing out -\"\\n\"Running to Daddy now, are you? Is his ickle boxing champ frightened of nasty Harry’s wand?\" \"Not this brave at night, are you?\" sneered Dudley. \"This is night, Diddykins. That’s what we call it when it goes all dark like this.\" \"I mean when you’re in bed!\" Dudley snarled. He had stopped walking. Harry stopped too, staring at his cousin. From the little he could see of Dudley’s large face, he was wearing a strangely triumphant look. \"What d’you mean, I’m not brave when I’m in bed?\" s aid Harry, completely nonplussed. \"What\\nam I supposed to be frightened of, pillows or something?\" \"I heard you last night,\" said Dudley breathlessly. \"Talking in your sleep. Moaning.\" \"What d’you mean?\" Harry said again, but there was a cold, plunging sensation in his stomach. He had revisited the graveyard last night in his dreams. Dudley gave a harsh bark of laughter, then adopted a high-pitched whimpering voice. \"‘Don’t kill Cedric! Don’t kill Cedric!’ Who’s Cedric - your boyfriend?\" \"I - you’re lying,\" said Harry automatically. But his mouth had gone dry. He knew Dudley wasn’t lying - how else would he know about Cedric? \"Dad! Help me, Dad! He’s going to kill me, Dad! Boo hoo!\" \"Shut up,\" said Harry quietly. \"Shut up, Dudley, I’m warning you!\" \"Come and help me, Dad! Mum, come and help me!', 'content_type': 'text', 'score': None, 'meta': {'name': 'hp5.txt', '_split_id': 2}, 'embedding': None, 'id': '58818dda1abaf62db89a60704a88651a'}>, <Document: {'content': '\"Come and help me, Dad! Mum, come and help me! He’s killed Cedric! Dad, help me! He’s\\ngoing to - don’t you point that thing at me!\" Dudley backed into the alley wall. Harry was pointing the wand directly at Dudley’s heart. Harry\\ncould feel fourteen years’ hatred of Dudley pounding in his veins - what wouldn’t he give to\\nstrike now, to jinx Dudley so thoroughly he’d have to crawl home like an insect, struck dumb,\\nsprouting feelers...\\n\"Don’t ever talk about that again,\" Harry snarled. \"D’you understand me?\" \"Point that thing somewhere else!\" \"I said, do you understand me?\" \"Point it somewhere else!\" \"DO YOU UNDERSTAND ME?\" \"GET THAT THING AWAY FROM -\"\\nDudley gave an odd, shuddering gasp, as though he had been doused in icy water. Something had happened to the night. The star-strewn indigo sky was suddenly pitch black and\\nlightless - the stars, the moon, the misty streetlamps at either end of the alley had vanished. The\\ndistant rumble of cars and the whisper of trees had gone. The balmy evening was suddenly\\npiercingly, bitingly cold. They were surrounded by total, impenetrable, silent darkness, as though\\nsome giant hand had dropped a thick, icy mantle over the entire alleyway, blinding them. For a split second Harry thought he had done magic without meaning to, despite the fact that\\nhe’d been resisting as hard as he could - then his reason caught up with his senses - he didn’t\\nhave the power to turn off the stars. He turned his head this way and that, trying to see\\nsomething, but the darkness pressed on his eyes like a weightless veil. Dudley’s terrified voice broke in Harry’s ear. \"W-what are you d-doing? St-stop it!\" \"I’m not doing anything! Shut up and don’t move!\" \"I c-can’t see! I’ve g-gone blind! I -\"\\n\"I said shut up!\" Harry stood stock still, turning his sightless eyes left and right. The cold was so intense he was\\nshivering all over; goose bumps had erupted up his arms and the hairs on the back of his neck\\nwere standing up - he opened his eyes to their fullest extent, staring blankly around, unseeing. It was impossible... they couldn’t be here... not in Little Whinging... he strained his ears... he\\nwould hear them before he saw them...\\n\"I’ll t-tell Dad!\" Dudley whimpered. \"W-where are you? What are you d-do--?\" \"Will you shut up?\" Harry hissed, \"I’m trying to lis --\"\\nBut he fell silent. He had heard just the thing he had been dreading. There was something in the alleyway apart from themselves, something that was drawing long,\\nhoarse, rattling breaths. Harry felt a horrible jolt of dread as he stood trembling in the freezing\\nair. \"C-cut it out! Stop doing it! I’ll h-hit you, I swear I will!\" \"Dudley, shut--\"\\nWHAM. A fist made contact with the side of Harry’s head, lifting him off his feet. Small white lights\\npopped in front of his eyes. For the second time in an hour Harry felt as though his head had\\nbeen cleaved in two; next moment, he had landed hard on the ground and his wand had flown out\\nof his hand. \"You moron, Dudley!\" Harry yelled, his eyes watering with pain as he scrambled to his hands\\nand knees, feeling around frantically in the blackness. He heard Dudley blundering away, hitting\\nthe alley fence, stumbling. \"DUDLEY, COME BACK! YOU’RE RUNNING RIGHT AT IT!\" There was a horrible squealing yell and Dudley’s footsteps stopped. At the same moment, Harry\\nfelt a creeping chill behind him that could mean only one thing. There was more than one. \"DUDLEY, KEEP YOUR MOUTH SHUT! WHATEVER YOU DO, KEEP YOUR MOUTH\\nSHUT! Wand!\" Harry muttered frantically, his hands flying over the ground like spiders. \"Where’s - wand -come on -lumos!\" He said the spell automatically, desperate for light to help him in his search - and to his\\ndisbelieving relief, light flared inches from his right hand - the wand tip had ignited. Harry\\nsnatched it up, scrambled to his feet and turned around. His stomach turned over. A towering, hooded figure was gliding smoothly towards him, hovering over the ground, no feet\\nor face visible beneath its robes, sucking on the night as it came. Stumbling backwards, Harry raised his wand. \"Expecto patronum!\" A silvery wisp of vapour shot from the tip of the wand and the Dementor slowed, but the spell\\nhadn’t worked properly; tripping over his own feet, Harry retreated further as the Dementor bore\\ndown upon him, panic fogging his brain -concentrate -\\nA pair of grey, slimy, scabbed hands slid from inside the Dementor’s robes, reaching for him. A\\nrushing noise filled Harry’s ears. \"Expecto patronum!\" His voice sounded dim and distant. Another wisp of silver smoke, feebler than the last, drifted\\nfrom the wand - he couldn’t do it any more, he couldn’t work the spell. There was laughter inside his own head, shrill, high-pitched laughter... he could smell the\\nDementor’s putrid, death-cold breath filling his own lungs, drowning him - think... something\\nhappy... But there was no happiness in him... the Dementor’s icy fingers were closing on his throat - the\\nhigh-pitched laughter was growing louder and louder, and a voice spoke inside his head: \"Bow\\nto death, Harry... it might even be painless... I would no t know... I have never died...\"\\nHe was never going to see Ron and Hermione again -\\nAnd their faces burst clearly into his mind as he fought for breath. \"EXPECTO PATRONUM!\" An enormous silver stag erupted from the tip of Harry’s wand; its antlers caught the Dementor in\\nthe place where the heart should have been; it was thrown backwards, weightless as darkness,\\nand as the stag charged, the Dementor swooped away, bat-like and defeated. \"THIS WAY!\" Harry shouted at the stag. Wheeling around, he sprinted down the alleyway,\\nholding the lit wand aloft. \"DUDLEY? DUDLEY!\" He had run barely a dozen steps when he reached them: Dudley was curled up on the ground, his\\narms clamped over his face. A second Dementor was crouching low over him, gripping his\\nwrists in its slimy hands, prizing them slowly almost lovingly apart, lowering its hooded head\\ntowards Dudley’s face as though about to kiss him. \"GET IT!\" Harry bellowed, and with a rushing, roaring sound, the silver stag he had conjured\\ncame galloping past him. The Dementor’s eyeless face was barely an inch from Dudley’s when\\nthe silver antlers caught it; the thing was thrown up into the air and, like its fellow, it soared\\naway and was absorbed into the darkness; the stag cantered to the end of the alleyway and\\ndissolved into silver mist. Moon, stars and streetlamps burst back into life. A warm breeze swept the alleyway. Trees\\nrustled in neighboring gardens and the mundane rumble of cars in Magnolia Crescent filled the\\nair again. Harry stood quite still, all his senses vibrating, taking in the abrupt return to normality. After a\\nmoment, he became aware that his T-shirt was sticking to him; he was drenched in sweat. He could not believe what had just happened. Dementors here, in Little Whinging. Dudley lay curled up on the ground, whimpering and shaking. Harry bent down to see whether\\nhe was in a fit state to stand up, but then he heard loud, running footsteps behind him. Instinctively raising his wand again, he span on his heel to face the newcomer. Mrs. Figg, their batty old neighbor, came panting into sight. Her grizzled grey hair was escaping from its hairnet, a clanking string shopping bag was swinging from her wrist and her feet were halfway out of her tartan carpet slippers. Harry made to stow his wand hurriedly out of sight, but-\\n\"Don’t put it away idiot boy!\"', 'content_type': 'text', 'score': None, 'meta': {'name': 'hp5.txt', '_split_id': 3}, 'embedding': None, 'id': '4a4e9bbaadd1f6dde6da447e80473afa'}>, <Document: {'content': 'Her grizzled grey hair was escaping from its hairnet, a clanking string shopping bag was swinging from her wrist and her feet were halfway out of her tartan carpet slippers. Harry made to stow his wand hurriedly out of sight, but-\\n\"Don’t put it away idiot boy!\" she shrieked. \"What if there are more of them around? Oh, I’m\\ngoing to kill Mundungus Fletcher!\" CHAPTER TWO\\nA Peck of Owls\\n\"He left!\" said Mrs. Figg, wringing her hands. \"Left to see someone about a batch of cauldrons\\nthat fell off the back of a broom! I told him I’d flay him alive if he went, and now look! Dementors! It’s just lucky I put Mr. Tibbies on the case! But we haven’t got time to stand\\naround! Hurry, now, we’ve got to get you back! Oh, the trouble this is going to cause! I will kill\\nhim!\" \"But -\" The revelation that his batty old cat-obsessed neighbor knew what Dementors were was\\nalmost as big a shock to Harry as meeting two of them down the alleyway. \"You’re - you’re a\\nwitch?\" \"I’m a Squib, as Mundungus knows full well, so how on earth was I supposed to help you fight\\noff Dementors? He left you completely without cover when I’d warned him -\"\\n\"This Mundungus has been following me? Hang on - it was him! He Disapparated from the front\\nof my house!\" \"Yes, yes, yes, but luckily I’d stationed Mr. Tibbies under a car just in case, and Mr. Tibbies\\ncame and warned me, but by the time I got to your house you’d gone - and now - oh, what’s\\nDumbledore going to say? You!\" she shrieked at Dudley, still supine on the alley floor. \"Get your fat bottom off the ground, quick!\" \"You know Dumbledore?\" said Harry, staring at her. \"Of course I know Dumbledore, who doesn’t know Dumbledore? But come on - I’ll be no help if\\nthey come back, I’ve never so much as transfigured a teabag.\" She stooped down, seized one of Dudley’s massive arms in her wizened hands and tugged. \"Get up, you useless lump, get up!\" But Dudley either could not or would not move. He remained on the ground, trembling and\\nashen-faced, his mouth shut very tight. \"I’ll do it.\" Harry took hold of Dudley’s arm and h heaved. With an enormous effort he managed to hoist him to his feet. Dudley seemed to be on the point of fainting. His small eyes were rolling in their sockets and sweat was beading his face; the moment Harry let go of him he swayed\\ndangerously. \"Hurry up!\" said Mrs. Figg hysterically. Harry pulled one of Dudley’s massive arms around his own shoulders and dragged him towards\\nthe road, sagging slightly under the weight. Mrs. Figg tottered along in front of them, peering\\nanxiously around the corner. \"Keep your wand out,\" she told Harry, as they entered Wisteria Walk. \"Never mind the Statute of Secrecy now, there’s going to be hell to pay anyway, we might as well be hanged for a dragon as an egg. Talk about the Reasonable Restriction of Underage Sorcery... this was exactly what\\nDumbledore was afraid of - What’s that at the end of the street? Oh, it’s just Mr. Prentice...\\ndon’t put your wand away, boy, don’t I keep telling you I’m no use?\" It was not easy to hold a wand steady and haul Dudley along at the same time. Harry gave his\\ncousin an impatient dig in the ribs, but Dudley seemed to have lost all desire for independent\\nmovement. He was slumped on Harry’s shoulder, his large feet dragging along the ground. \"Why didn’t you tell me you’re a Squib, Mrs. Figg?\" asked Harry, panting with the effort to keep\\nwalking. \"All those times I came round your house - why didn’t you say anything?\" \"Dumbledore’s orders. I was to keep an eye on you but not say anything, you were too young. I’m sorry I gave you such a miserable time, Harry, but the Dursleys would never have let you\\ncome if they’d thought you enjoyed it. It wasn’t easy, you know... but oh my word,\" she said\\ntragically, wringing her hands once more, \"when Dumbledore hears about this - how could\\nMundungus have left, he was supposed to be on duty until midnight - where is he? How am I\\ngoing to tell Dumbledore what’s happened? I can’t Apparate.\" \"I’ve got an owl, you can borrow her.\" Harry groaned, wondering whether his spine was going to\\nsnap under Dudleys weight. \"Harry, you don’t understand! Dumbledore will need to act as quickly as possible, the Ministry\\nhave their own ways of detecting underage magic, they’ll know already, you mark my words.\" \"But I was getting rid of Dementors, I had to use magic - they’re going to be more worried about\\nwhat Dementors were doing floating around Wisteria Walk, surely?\" \"Oh, my dear, I wish it were so, but I’m afraid - MUNDUNGUS FLETCHER, I AM GOING TO\\nKILL YOU!\" There was a loud crack and a strong smell of drink mingled with stale tobacco filled the air as a\\nsquat, unshaven man in a tattered overcoat materialized right in front of them. He had short,\\nbandy legs, long straggly ginger hair and bloodshot, baggy eyes that gave him the doleful look of\\na basset hound. He was also clutching a silvery bundle that Harry recognized at once as an\\nInvisibility Cloak. \"S’up, Figgy?\" he said, staring from Mrs. Figg to Harry and Dudley. \"What ‘appened to staying\\nundercover?\" \"I’ll give you undercover!\" cried Mrs. Figg. \"Dementors, you useless, skiving sneak thief!\" \"Dementors?\" repeated Mundungus, aghast. \"Dementors, ‘ere?\" \"Yes, here, you worthless pile of bat droppings, here!\" shrieked Mrs. Figg. \"Dementors attacking\\nthe boy on your watch!\" \"Blimey,\" said Mundungus weakly, looking from Mrs. Figg to Harry, and back again. \"Blimey, I\\n-\"\\n\"And you off buying stolen cauldrons! Didn’t I tell you not to go? Didn’t I!\" \"I - well, I -\" Mundungus looked deeply uncomfortable. \"It -- it was a very good business\\nopportunity, see -\"\\nMrs. Figg raised the arm from which her string bag dangled and whacked Mundungus around the\\nface and neck with it; judging by the clanking noise it made it was full of cat food. \"Ouch - gerroff - gerroff, you mad old bat! Someone’s gotta tell Dumbledore!\" \"Yes - they - have!\" yelled Mrs. Figg, swinging the bag of cat food at every bit of Mundungus\\nshe could reach. \"And - it - had - better - be - you - and - you - can - tell - him - why - you -\\nweren’t - there - to - help!\" \"Keep your ‘airnet on!\" said Mundungus, his arms over his head, cowering. \"I’m going, I’m\\ngoing!\" And with another loud crack, he vanished. \"I hope Dumbledore murders him!\" said Mrs. Figg furiously. \"Now come on, Harry, what are\\nyou waiting for?\" Harry decided not to waste his remaining breath on pointing out that he could barely walk under\\nDudley’s bulk. He gave the semi-conscious Dudley a heave and staggered onwards.', 'content_type': 'text', 'score': None, 'meta': {'name': 'hp5.txt', '_split_id': 4}, 'embedding': None, 'id': 'd3f6606c33735c081b2a6abec9a89c'}>, <Document: {'content': 'Harry decided not to waste his remaining breath on pointing out that he could barely walk under\\nDudley’s bulk. He gave the semi-conscious Dudley a heave and staggered onwards. \"I’ll take you to the door,\" said Mrs. Figg, as they turned into Privet Drive. \"Just in case there are\\nmore of them around... oh my word, what a catastrophe... and you had to fight them off\\nyourself... and Dumbledore said we were to keep you from doing magic at all costs... well, it’s\\nno good crying over spilt potion, I suppose... but the cat’s among the pixies now.\" \"So,\" Harry panted, \"Dumbledore’s... been having... me followed?\" \"Of course he has,\" said Mrs. Figg impatiently. \"Did you expect him to let you wander around on your own after what happened in June? Good Lord, boy, they told me you were intelligent...\\nright... get inside and stay there,\" she said, as they reached number four. \"I expect someone will\\nbe in touch with you soon enough.\" \"What are you going to do?\" asked Harry quickly. \"I’m going straight home,\" said Mrs. Figg, staring around the dark street and shuddering. \"I’ll\\nneed to wait for more instructions. Just stay in the house. Goodnight.\" \"Hang on, don’t go yet! I want to know -\"\\nBut Mrs. Figg had already set off at a trot, carpet slippers flopping, string bag clanking. \"Wait!\" Harry shouted after her. He had a million questions to ask anyone who was in contact\\nwith Dumbledore; but within seconds Mrs. Figg was swallowed by the darkness. Scowling,\\nHarry readjusted Dudley on his shoulder and made his slow, painful way up number four’s\\ngarden path. The hall light was on. Harry stuck his wand back inside the waistband of his jeans, rang the bell\\nand watched Aunt Petunia’s outline grow larger and larger, oddly distorted by the rippling glass\\nin the front door. \"Diddy! About time too, I was getting quite - quite -Diddy, what’s the matter!\" Harry looked sideways at Dudley and ducked out from under his arm just in time. Dudley\\nswayed on the spot for a moment, his face pale green... then he opened his mouth and vomited\\nall over the doormat. \"DIDDY! Diddy, what’s the matter with you? Vernon? VERNON!\" Harry’s uncle came galumphing out of the living room, walrus moustache blowing hither and\\nthither as it always did when he was agitated. He hurried forwards to help Aunt Petunia negotiate\\na weak-kneed Dudley over the threshold while avoiding stepping in the pool of sick. \"He’s ill, Vernon!\" \"What is it, son? What’s happened? Did Mrs. Polkiss give you something foreign for tea?\" \"Why are you all covered in dirt, darling? Have you been lying on the ground?\" \"Hang on - you haven’t been mugged, have you, son?\" Aunt Petunia screamed. \"Phone the police, Vernon! Phone the police! Diddy, darling, speak to Mummy! What did they\\ndo to you?\" In all the kerfuffle nobody seemed to have noticed Harry, which suited him perfectly. He\\nmanaged to slip inside just before Uncle Vernon slammed the door and, while the Dursleys made\\ntheir noisy progress down the hall towards the kitchen, Harry moved carefully and quietly\\ntowards the stairs. \"Who did it, son? Give us names. We’ll get them, don’t worry.\" \"Shh! He’s trying to say something, Vernon! What is it, Diddy? Tell Mummy!\" Harry’s foot was on the bottom-most stair when Dudley found his voice. \"Him.\" Harry froze, foot on the stair, face screwed up, braced for the explosion. \"BOY! COME HERE!\" With a feeling of mingled dread and anger, Harry removed his foot slowly from the stair and\\nturned to follow the Dursleys. The scrupulously clean kitchen had an oddly unreal glitter after the darkness outside. Aunt\\nPetunia was ushering Dudley into a chair; he was still very green and clammy-looking. Uncle\\nVernon standing in front of the draining board, glaring at Harry through tiny, narrowed eyes. \"What have you done to my son?\" he said in a menacing growl. \"Nothing,\" said Harry, knowing perfectly well that Uncle Vernon wouldn’t believe him. \"What did he do to you, Diddy?\" Aunt Petunia said in a quavering voice, now sponging sick from the front of Dudley’s leather jacket. \"Was it - was it you-know-what, darling? Did he use - his thing?\" Slowly, tremulously, Dudley nodded. \"I didn’t!\" Harry said sharply, as Aunt Petunia let out a wail and Uncle Vernon raised his fists. \"I didn’t do anything to him, it wasn’t me, it was -\"\\nBut at that precise moment a screech owl swooped in through the kitchen window. Narrowly\\nmissing the top of Uncle Vernon’s head, it soared across the kitchen, dropped the large\\nparchment envelope it was carrying in its beak at Harry’s feet, turned gracefully, the tips of its\\nwings just brushing the top of the fridge, then zoomed outside again and off across the garden. \"OWLS!\" bellowed Uncle Vernon, the well-worn vein in his temple pulsing angrily as he\\nslammed the kitchen window shut. \"OWLS AGAIN! I WILL NOT HAVE ANY MORE OWLS\\nIN MY HOUSE!\" But Harry was already ripping open the envelope and pulling out the letter inside, his heart\\npounding somewhere in the region of his Adam’s apple. Dear Mr. Potter,\\nWe have received intelligence that you performed the Patronus Charm at twenty-three minutes\\npast nine this evening in a Muggle-inhabited area and in the presence of a Muggle. The severity of this breach of the Decree for the Reasonable Restriction of Underage Sorcery has\\nresulted in your expulsion from Hogwarts School of Witchcraft and Wizardry. Ministry\\nrepresentatives will be calling at your place of residence shortly to destroy your wand. As you have already received an official warning for a previous offence under Section 13 of the\\nInternational Confederation of Warlocks’ Statute of Secrecy, we regret to inform you that your\\npresence is required at a disciplinary hearing at the Ministry of Magic at 9 a.m. on the twelfth of\\nAugust. Hoping you are well,\\nYours sincerely,\\nMafalda Hopkirk\\nImproper Use of Magic Office\\nMinistry of Magic\\nHarry read the letter through twice. He was only vaguely aware of Uncle Vernon and Aunt\\nPetunia talking. Inside his head, all was icy and numb. One fact had penetrated his consciousness\\nlike a paralyzing dart. He was expelled from Hogwarts. It was all over. He was never going back. He looked up at the Dursleys. Uncle Vernon was purple-faced, shouting, his fists still raised;\\nAunt Petunia had her arms around Dudley, who was retching again. Harry’s temporarily stupefied brain seemed to reawaken. Ministry representatives will be calling\\nat your place of residence shortly to destroy your wand. There was only one thing for it. He\\nwould have to run - now. Where he was going to go, Harry didn’t know, but he was certain of\\none thing: at Hogwarts or outside it, he needed his wand. In an almost dream like state, he pulled\\nhis wand out and turned to leave the kitchen. \"Where d’you think you’re going?\"', 'content_type': 'text', 'score': None, 'meta': {'name': 'hp5.txt', '_split_id': 5}, 'embedding': None, 'id': '1b16b8b8b1258fd7a9b02c2755fc4a0'}>, <Document: {'content': 'In an almost dream like state, he pulled\\nhis wand out and turned to leave the kitchen. \"Where d’you think you’re going?\" yelled Uncle Vernon. When Harry didn’t reply, he pounded\\nacross the kitchen to block the doorway into the hall. \"I haven’t finished with you, boy!\" \"Get out of the way,\" said Harry quietly. \"You’re going to stay here and explain how my son-\"\\n\"If you don’t get out of the way I’m going to jinx you,\" said Harry, raising the wand. \"You can’t pull that one on me!\" snarled Uncle Vernon. \"I know you’re not allowed to use it\\noutside that madhouse you call a school!\" \"The madhouse has chucked me out,\" said Harry. \"So I can do whatever I like. You’ve got three\\nseconds. One - two -\"\\nA resounding CRACK filled the kitchen. Aunt Petunia screamed, ‘Hide!’ Uncle Vernon yelled\\nand ducked, but for the third time that night Harry was searching for the source of a disturbance\\nhe had not made. He spotted it at once: a dazed and ruffled-looking barn owl was sitting outside\\non the kitchen sill, having just collided with the closed window. Ignoring Uncle Vernon’s anguished yell of ‘OWLS!’ Harry crossed the room at a run and\\nwrenched the window open. The owl stuck out its leg, to which a small roll of parchment was\\ntied, shook its leathers, and took off the moment Harry had taken the letter. Hands shaking,\\nHarry unfurled the second message, which was written very hastily and blotchily in black ink. Harry --\\nDumbledore’s just arrived at the Ministry and he’s trying to sort it all out. DO NOT LEAVE\\nYOUR AUNT AND UNCLE’S HOUSE. DO NOT DO ANY MORE MAGIC. DO NOT\\nSURRENDER YOUR WAND. Arthur Weasley\\nDumbledore was trying to sort it all out... what did that mean? How much power did\\nDumbledore have to override the Ministry of Magic? Was there a chance that he might be\\nallowed back to Hogwarts, then? A small shoot of hope burgeoned in Harry’s chest, almost\\nimmediately strangled by panic - how was he supposed to refuse to surrender his wand without\\ndoing magic? He’d have to duel with the Ministry representatives, and if he did that, he’d be\\nlucky to escape Azkaban, let alone expulsion. His mind was racing... he could run for it and risk being captured by the Ministry, or stay put\\nand wait for them to find him here. He was much more tempted by the former course, but he\\nknew Mr. Weasley had his best interests at heart... and after all, Dumbledore had sorted out\\nmuch worse than this before. \"Right,\" Harry said, \"I’ve changed my mind, I’m staying.\" He flung himself down at the kitchen\\ntable and faced Dudley and Aunt Petunia. The Dursleys appeared taken aback at his abrupt\\nchange of mind. Aunt Petunia glanced despairingly at Uncle Vernon. The vein in his purple\\ntemple was throbbing worse than ever. \"Who are all these ruddy owls from?\" he growled. \"The first one was from the Ministry of Magic, expelling me,\" said Harry calmly. He was\\nstraining his ears to catch any noises outside, in case the Ministry representatives were\\napproaching, and it was easier and quieter to answer Uncle Vernon’s questions than to have him\\nstart raging and bellowing. \"The second one was from my friend Ron’s dad, who works at the\\nMinistry.\" \"Ministry of Magic?\" bellowed Uncle Vernon. \"People like you in government! Oh, this explains everything, everything, no wonder the country’s going to the dogs.\" When Harry did not respond, Uncle Vernon glared at him, then spat out, \"And why have you\\nbeen expelled?\" \"Because I did magic.\" \"AHA!\" roared Uncle Vernon, slamming his fist down on top of the fridge, which sprang open;\\nseveral of Dudley’s low-fat snacks toppled out and burst on the floor. \"So you admit it! What did\\nyou do to Dudley?\" \"Nothing,\" said Harry, slightly less calmly. \"That wasn’t me -\"\\n\"Was,\" muttered Dudley unexpectedly, and Uncle Vernon and Aunt Petunia instantly made\\nflapping gestures at Harry to quieten him while they both bent low over Dudley. \"Go on, son,\" said Uncle Vernon, \"what did he do?\" \"Tell us, darling,\" whispered Aunt Petunia. \"Pointed his wand at me,\" Dudley mumbled. \"Yeah, I did, but I didn’t use -\" Harry began angrily, but -\\n\"SHUT UP!\" roared Uncle Vernon and Aunt Petunia in unison. \"Go on, son,\" repeated Uncle Vernon, moustache blowing about furiously. \"All went dark,\" Dudley said hoarsely, shuddering. \"Everything dark. And then I h-heard...\\nthings. Inside m-my head.\" Uncle Vernon and Aunt Petunia exchanged looks of utter horror. If their least favorite thing in\\nthe world was magic - closely followed by neighbors who cheated more than they did on the\\nhosepipe ban - people who heard voices were definitely in the bottom ten. They obviously\\nthought Dudley was losing his mind. \"What sort of things did you hear, Popkin?\" breathed Aunt Petunia, very white-faced and with\\ntears in her eyes. But Dudley seemed incapable of saying. He shuddered again and shook his large blond head, and\\ndespite the sense of numb dread that had settled on Harry since the arrival of the first owl, he felt\\na certain curiosity. Dementors caused a person to relive the worst moments of their life. What\\nwould spoiled, pampered, bullying Dudley have been forced to hear? \"How come you fell over, son?\" said Uncle Vernon, in an unnaturally quiet voice, the kind of\\nvoice he might adopt at the bedside of a very ill person. \"T-tripped,\" said Dudley shakily. \"And then -\"\\nHe gestured at his massive chest. Harry understood. Dudley was remembering the clammy cold\\nthat filled the lungs as hope and happiness were sucked out of you. \"Horrible,\" croaked Dudley. \"Cold. Really cold.\" \"Okay,\" said Uncle Vernon, in a voice of forced calm, while Aunt Petunia laid an anxious hand on Dudley’s forehead to feel his temperature. \"What happened then, Dudders?\" \"Felt... felt... felt... as if... as if...\"\\n\"As if you’d never be happy again,\" Harry supplied dully. \"Yes,\" Dudley whispered, still trembling. \"So!\" said Uncle Vernon, voice restored to full and considerable volume as he straightened up. \"You put some crackpot spell on my son so he’d hear voices and believe he was - was doomed to\\nmisery, or something, did you?\" \"How many times do I have to tell you?\" said Harry, temper and voice both rising. \"It wasn’t me! It was a couple of Dementors!\" \"A couple of - what’s this codswallop?\" \"De - men - tors,\" said Harry slowly and clearly. \"Two of them.\" \"And what the ruddy hell are Dementors?\" \"They guard the wizard prison, Azkaban,\" said Aunt Petunia. Two seconds of ringing silence followed these words before Aunt Petunia clapped her hand over\\nher mouth as though she had let slip a disgusting swear word. Uncle Vernon was goggling at her. Harry’s brain reeled. Mrs. Figg was one thing - but Aunt Petunia?', 'content_type': 'text', 'score': None, 'meta': {'name': 'hp5.txt', '_split_id': 6}, 'embedding': None, 'id': '9efc027d3768bf2dc5762bdb35f1a86b'}>, <Document: {'content': 'Harry’s brain reeled. Mrs. Figg was one thing - but Aunt Petunia? \"How d’you know that?\" he asked her, astonished. Aunt Petunia looked quite appalled with herself. She glanced at Uncle Vernon in fearful apology,\\nthen lowered her hand slightly to reveal her horsy teeth. \"I heard - that awful boy - telling her about them - years ago,\" she said jerkily. \"If you mean my mum and dad, why don’t you use their names?\" said Harry loudly, but Aunt\\nPetunia ignored him. She seemed horribly flustered. Harry was stunned. Except for one outburst years ago, in the course of which Aunt Petunia had\\nscreamed that Harry’s mother had been a freak, he had never heard her mention her sister. He\\nwas astounded that she had remembered this scrap of information about the magical world for so\\nlong, when she usually put all her energies into pretending it didn’t exist. Uncle Vernon opened his mouth, closed it again, opened it once more, shut it, then, apparently\\nstruggling to remember how to talk, opened it for a third time and croaked, \"So - so - they - er -\\nthey - er - they actually exist, do they - er - Dementy-whatsits?\" Aunt Petunia nodded. Uncle Vernon looked from Aunt Petunia to Dudley to Harry as if hoping somebody was going to\\nshout ‘April Fool!’ When nobody did, he opened his mouth yet again, but was spared the\\nstruggle to find more words by the arrival of the third owl of the evening. It zoomed through the\\nstill-open window like a feathery cannon-ball and landed with a clatter on the kitchen table,\\ncausing all three of the Dursleys to jump with fright. Harry tore a second official-looking\\nenvelope from the owls beak and ripped it open as the owl swooped back out into the night. \"Enough - effing - owls,\" muttered Uncle Vernon distractedly, stomping over to the window and\\nslamming it shut again. Dear Mr. Potter,\\nFurther to our letter of approximately twenty-two minutes ago, the Ministry of Magic has revised\\nits decision to destroy your wand forthwith. You may retain your wand until your disciplinary\\nhearing on the twelfth of August, at which time an official decision will be taken. Following discussions with the Headmaster of Hogwarts School of Witchcraft and Wizardry, the\\nMinistry has agreed that the question of your expulsion will also be decided at that time. You\\nshould therefore consider yourself suspended from school pending further enquiries. With best wishes,\\nYours sincerely,\\nMafalda Hopkirk\\nImproper Use of Magic Office\\nMinistry of Magic\\nHarry read this letter through three times in quick succession. The miserable knot in his chest\\nloosened slightly with the relief of Knowing he was not yet definitely expelled, though his fears\\nwere by no means banished. Everything seemed to hang on this hearing on the twelfth of August. \"Well?\" said Uncle Vernon, recalling Harry to his surroundings. \"What now? Have they\\nsentenced you to anything? Do your lot have the death penalty?\" he added as a hopeful\\nafterthought. \"I’ve got to go to a hearing,\" said Harry. \"And they’ll sentence you there?\" \"I suppose so.\" \"I won’t give up hope, then,\" said Uncle Vernon nastily. \"Well, if that’s all,\" said Harry, getting to his feet. He was desperate to be alone, to think, perhaps to send a letter to Ron, Hermione or Sirius. \"NO, IT RUDDY WELL IS NOT ALL!\" bellowed Uncle Vernon. \"SIT BACK DOWN!\" \"What now?\" said Harry impatiently. \"DUDLEY!\" roared Uncle Vernon. \"I want to know exactly what happened to my son!\" \"FINE!\" yelled Harry, and in his temper, red and gold sparks shot out of the end of his wand, still clutched in his hand. All three Dursleys flinched, looking terrified. \"Dudley and I were in the alleyway between Magnolia Crescent and Wisteria Walk,\" said Harry,\\nspeaking fast, fighting to control his temper. \"Dudley thought he’d be smart with me, I pulled out\\nmy wand but didn’t use it. Then two Dementors turned up --\"\\n\"But what ARE Dementoids?\" asked Uncle Vernon furiously. \"What do they DO?\" \"I told you - they suck all the happiness out of you,\" said Harry, \"and if they get the chance, they\\nkiss you -\\n\"Kiss you?\" said Uncle Vernon, his eyes popping slightly. \"Kiss you?\" \"It’s what they call it when they suck the soul out of your mouth.\" Aunt Petunia uttered a soft scream. \"His soul? They didn’t take - he’s still got his -\"\\nShe seized Dudley by the shoulders and shook him, as though testing to see whether she could\\nhear his soul rattling around inside him. \"Of course they didn’t get his soul, you’d know if they had,\" said Harry, exasperated. \"Fought ‘em off, did you, son?\" said Uncle Vernon loudly, with the appearance of a man\\nstruggling to bring the conversation back on to a plane he understood. \"Gave ‘em the old one-two, did you?\" \"You can’t give a Dementor the old one-two,\" said Harry through clenched teeth. \"Why’s he all right, then?\" blustered Uncle Vernon. \"Why isn’t he all empty, then?\" \"Because I used the Patronus -\"\\nWHOOSH. With a clattering, a whirring of wings and a soft fall of dust, a fourth owl came\\nshooting out of the kitchen fireplace. \"FOR GOD’S SAKE!\" roared Uncle Vernon, pulling great clumps of hair out of his moustache,\\nsomething he hadn’t been driven to do in a long time. \"I WILL NOT HAVE OWLS HERE, I\\nWILL NOT TOLERATE THIS, I TELL YOU!\" But Harry was already pulling a roll of parchment from the owl’s leg. He was so convinced that\\nthis letter had to be from Dumbledore, explaining everything - the Dementors, Mrs. Figg, what\\nthe Ministry was up to, how he, Dumbledore, intended to sort everything out - that for the first\\ntime in his life he was disappointed to see Sirius’s handwriting. Ignoring Uncle Vernon’s\\non going rant about owls, and narrowing his eyes against a second cloud of dust as the most\\nrecent owl look off back up the chimney, Harry read Sirius’s message. Arthur’s just told us what’s happened. Don’t leave the house again, whatever you do. Harry found this such an inadequate response to everything that had happened tonight that he\\nturned the piece of parchment over, looking for the rest of the letter, but there was nothing else. And now his temper was rising again. Wasn’t anybody going to say ‘well done’ for fighting off\\ntwo Dementors single-handed? Both Mr. Weasley and Sirius were acting as though he’d\\nmisbehaved, and were saving their tellings-off until they could ascertain how much damage had\\nbeen done. \"...A peck, I mean, pack of owls shooting in and out of my house. I won’t have it, boy, I won’t-\"\\n\"I can’t stop the owls coming,\" Harry snapped, crushing Sirius’s letter in his fist. \"I want the truth about what happened tonight!\" bar ked Uncle Vernon. \"If it was Demenders who hurt Dudley, how come you’ve been expelled? You did you-know-what, you’ve admitted it!\" Harry took a deep, steadying breath. His head was beginning to ache again. He wanted more than\\nanything to get out of the kitchen, and away from the Dursleys. \"I did the Patronus Charm to get rid of the Dementors,\" he said, forcing himself to remain calm. \"It’s the only thing that works against them.\" \"But what were Dementoids doing in Little Whinging?\" said Uncle Vernon in an outraged tone. \"Couldn’t tell you,\" said Harry wearily. \"No idea.\" His head was pounding in the glare of the strip-lighting now. His anger was ebbing away.', 'content_type': 'text', 'score': None, 'meta': {'name': 'hp5.txt', '_split_id': 7}, 'embedding': None, 'id': '5d0bf03d0aaea9ec02b7a536fc110ced'}>, <Document: {'content': 'His head was pounding in the glare of the strip-lighting now. His anger was ebbing away. He felt\\ndrained, exhausted. The Dursleys were all staring at him. \"It’s you,\" said Uncle Vernon forcefully. \"It’s go t something to do with you, boy, I know it. Why else would they turn up here? Why else would they be down that alleyway? You’ve got to be the only - the only -\" Evidently, he couldn’t bring himself to say the word ‘wizard’ \"the only you know-what for miles.\" \"I don’t know why they were here.\" But at Uncle Vernon’s words, Harry’s exhausted brain had ground back into action. Why had the\\nDementors come to Little Whinging? How could it be coincidence that they had arrived in the\\nalleyway where Harry was? Had they been sent? Had the Ministry of Magic lost control of the\\nDementors? Had they deserted Azkaban and joined Voldemort, as Dumbledore had predicted\\nthey would? \"These Demembers guard some weirdo’s prison?\" asked Uncle Vernon, lumbering along in the\\nwake of Harry’s train of thought. \"Yes,\" said Harry. If only his head would stop hurting, if only he could just leave the kitchen and get to his dark\\nbedroom and think...\\n\"Oho! They were coming to arrest you!\" said Uncle Vernon, with the triumphant air of a man\\nreaching an unassailable conclusion. \"That’s it, isn’t it, boy? You’re on the run from the law!\" \"Of course I’m not,\" said Harry, shaking his head as though to scare off a fly, his mind racing\\nnow. \"Then why -?\" \"He must have sent them,\" said Harry quietly, more to himself than to Uncle Vernon. \"What’s that? Who must have sent them?\" \"Lord Voldemort,\" said Harry. He registered dimly how strange it was that the Dursleys, who flinched, winced and squawked if\\nthey heard words like ‘wizard’, ‘magic’ or ‘wand’, could hear the name of the most evil wizard\\nof all time without the slightest tremor. \"Lord - hang on,\" said Uncle Vernon, his face screwed up, a look of dawning comprehension\\ncoming into his piggy eyes. \"I’ve heard that name... that was the one who --\"\\n\"Murdered my parents, yes,\" Harry said dully. \"But he’s gone,\" said Uncle Vernon impatiently, without the slightest sign that the murder of\\nHarry’s parents might be a painful topic. \"That giant bloke said so. He’s gone.\" \"He’s back,\" said Harry heavily. It felt very strange to be standing here in Aunt Petunia’s surgically clean kitchen, beside the top of-the-range fridge and the wide-screen television, talking calmly of Lord Voldemort to Uncle\\nVernon. The arrival of the Dementors in Little Whinging seemed to have breached the great,\\ninvisible wall that divided the relentlessly non-magical world of Privet Drive and the world\\nbeyond, Harry’s two lives had somehow become fused and everything had been turned upside-down; the Dursleys were asking for details about the magical world, and Mrs. Figg knew Albus Dumbledore; Dementors were soaring around Little Whinging, and he might never return to Hogwarts. Harry’s head throbbed more painfully. \"Back?\" whispered Aunt Petunia. She was looking at Harry as she had never looked at him before. And all of a sudden, for the\\nvery first time in his life, Harry fully appreciated that Aunt Petunia was his mother’s sister. He\\ncould not have said why this hit him so very powerfully at this moment. All he knew was that he\\nwas not the only person in the room who had an inkling of what Lord Voldemort being back\\nmight mean. Aunt Petunia had never in her life looked at him like that before. Her large, pale\\neyes (so unlike her sister’s) were not narrowed in dislike or anger, they were wide and fearful. The furious pretence that Aunt Petunia had maintained all Harry’s life - that there was no magic\\nand no world other than the world she inhabited with Uncle Vernon - seemed to have fallen\\naway. \"Yes,\" Harry said, talking directly to Aunt Petunia now. \"He came back a month ago. I saw him.\" Her hands found Dudley’s massive leather-clad shoulders and clutched them. \"Hang on,\" said Uncle Vernon, looking from his wife to Harry and back again, apparently dazed\\nand confused by the unprecedented understanding that seemed to have sprung up between them. \"Hang on. This Lord Voldything’s back, you say.\" \"Yes.\" \"The one who murdered your parents.\" \"Yes.\" \"And now he’s sending Dismembers after you?\" \"Looks like it,\" said Harry. \"I see,\" said Uncle Vernon, looking from his white - faced wife to Harry and hitching up his\\ntrousers. He seemed to be swelling, his great purple face stretching before Harry’s eyes. \"Well,\\nthat settles it,\" he said, his shirt front straining as he inflated himself, \"you can get out of this\\nhouse, boy!\" \"What?\" said Harry. \"You heard me - OUT!\" Uncle Vernon bellowed, and even Aunt Petunia and Dudley jumped. \"OUT! OUT! I should’ve done this years ago! Owls treating the place like a rest home, puddings\\nexploding, half the lounge destroyed, Dudley’s tail, Marge bobbing around on the ceiling and\\nthat flying Ford Anglia - OUT! OUT! You’ve had it! You’re history! You’re not staying here if\\nsome loony’s after you, you’re not endangering my wife and son, you’re not bringing trouble\\ndown on us. If you’re going the same way as your useless parents, I’ve had it! OUT!\" Harry stood rooted to the spot. The letters from the Ministry, Mr. Weasley and Sirius were all\\ncrushed in his left hand. Don’t leave the house again, whatever you do. DO NOT LEAVE YOUR AUNT AND UNCLE’S HOUSE. \"You heard me!\" said Uncle Vernon, bending forward now, his massive purple face coming so\\nclose to Harry’s, he actually felt flecks of spit hit his face. \"Get going! You were all keen to leave half an hour ago! I’m right behind you! Get out and never darken our doorstep again! Why we ever kept you in the first place, I don’t know, Marge was right, it should have been the\\norphanage. We were too damn soft for our own good, thought we could squash it out of you,\\nthought we could turn you normal, but you’ve been rotten from the beginning and I’ve had\\nenough - owls!\" The fifth owl zoomed down the chimney so fast it actually hit the floor before zooming into the\\nair again with a loud screech. Harry raised his hand to seize the letter, which was in a scarlet\\nenvelope, but it soared straight over his head, flying directly at Aunt Petunia, who let out a\\nscream and ducked, her arms over her face. The owl dropped the red envelope on her head,\\nturned, and flew straight back up the chimney. Harry darted forwards to pick up the letter, but Aunt Petunia beat him to it. \"You can open it if you like,\" said Harry, \"but I’ll hear what it says anyway. That’s a Howler.\" \"Let go of it, Petunia!\" roared Uncle Vernon. \"Don’t touch it, it could be dangerous!\" \"It’s addressed to me,\" said Aunt Petunia in a shaking voice.', 'content_type': 'text', 'score': None, 'meta': {'name': 'hp5.txt', '_split_id': 8}, 'embedding': None, 'id': '305c120524945df6d4c2f7042879aa52'}>, <Document: {'content': '\"Don’t touch it, it could be dangerous!\" \"It’s addressed to me,\" said Aunt Petunia in a shaking voice. \"It’s addressed to me, Vernon, look! Mrs. Petunia Dursley, The Kitchen, Number Four, Privet Drive -\"\\nShe caught her breath, horrified. The red envelope had begun to smoke. \"Open it!’ Harry urged her. \"Get it over with! It’ll happen anyway.\" \"No.\" Aunt Petunia’s hand was trembling. She looked wildly around the kitchen as though looking for\\nan escape route, but too late -the envelope burst into flames. Aunt Petunia screamed and dropped\\nit. An awful voice filled the kitchen, echoing in the confined space, issuing from the burning letter\\non the table. Remember my last, Petunia. Aunt Petunia looked as though she might faint. She sank into the chair beside Dudley, her face in\\nher hands. The remains of the envelope smouldered into ash in the silence. \"What is this?\" Uncle Vernon said hoarsely. \"What - I don’t -Petunia?\" Aunt Petunia said nothing. Dudley was staring stupidly at his mother, his mouth hanging open. The silence spiraled horribly. Harry was watching his aunt, utterly bewildered, his head\\nthrobbing fit to burst. \"Petunia, dear?\" said Uncle Vernon timidly. \"P-Petunia?\" She raised her head. She was still trembling. She swallowed. \"The boy - the boy will have to stay, Vernon,\" she said weakly. \"W-what?\" \"He stays,\" she said. She was not looking at Harry. She got to her feet again. \"He... but Petunia...\"\\n\"If we throw him out, the neighbors will talk,\" she said. She was rapidly regaining her usual\\nbrisk, snappish manner, though she was still very pale. \"They’ll ask awkward questions, they’ll\\nwant to know where he’s gone. We’ll have to keep him.\" Uncle Vernon was deflating like an old tire. \"But Petunia, dear -\"\\nAunt Petunia ignored him. She turned to Harry. \"You’re to stay in your room,\" she said. \"You’re\\nnot to leave the house. Now get to bed.\" Harry didn’t move. \"Who was that Howler from?\" \"Don’t ask questions,\" Aunt Petunia snapped. \"Are you in touch with wizards?\" \"I told you to get to bed!\" \"What did it mean? Remember the last what?\" \"Go to bed!\" \"How come -?\" \"YOU HEARD YOUR AUNT, NOW GET TO BED!\" CHAPTER THREE\\nThe Advance Guard\\nI’ve just been attacked by Dementors and I might be expelled from Hogwarts. I want to know\\nwhat’s going on and when I’m going to get out of here. Harry copied these words on to three separate pieces of parchment the moment he reached the\\ndesk in his dark bedroom. He addressed the first to Sirius, the second to Ron and the third to\\nHermione. His owl, Hedwig, was off hunting; her cage stood empty on the desk. Harry paced the\\nbedroom waiting for her to come back, his head pounding, his brain too busy for sleep even\\nthough his eyes stung and itched with tiredness. His back ached from hauling Dudley home, and\\nthe two lumps on his head where the window and Dudley had hit him were throbbing painfully. Up and down he paced, consumed with anger and frustration, grinding his teeth and clenching\\nhis fists, casting angry looks out at the empty, star-strewn sky every time he passed the window. Dementors sent to get him, Mrs. Figg and Mundungus Fletcher tailing him in secret, then\\nsuspension from Hogwarts and a hearing at the Ministry of Magic - and still no one was telling\\nhim what was going on. And what, what, had that Howler been about? Whose voice had echoed so horribly, so\\nmenacingly, through the kitchen? Why was he still trapped here without information? Why was everyone treating him like some\\nnaughty kid? Don’t do any more magic, stay in the house... He kicked his school trunk as he passed it, but far from relieving his anger he felt worse, as he\\nnow had a sharp pain in his toe to deal with in addition to the pain in the rest of his body. Just as he limped past the window, Hedwig soared through it with a soft rustle of wings like a\\nsmall ghost. \"About time!\" Harry snarled, as she landed lightly on top of her cage. \"You can put that down,\\nI’ve got work for you!\" Hedwig’s large, round, amber eyes gazed at him reproachfully over the dead frog clamped in her\\nbeak. \"Come here,\" said Harry, picking up the three small rolls of parchment and a leather thong and\\ntying the scrolls to her scaly leg. \"Take these straight to Sirius, Ron and Hermione and don’t come back here without good long replies. Keep pecking them till they’ve written decent-length\\nanswers if you’ve got to. Understand?\" Hedwig gave a muffled hooting noise, her beak still full of frog. \"Get going, then,\" said Harry. She took off immediately. The moment she’d gone, Harry threw himself down on his bed\\nwithout undressing and stared at the dark ceiling. In addition to every other miserable feeling, he\\nnow felt guilty that he’d been irritable with Hedwig; she was the only friend he had at number\\nfour, Privet Drive. But he’d make it up to her when she came back with the answers from Sirius,\\nRon and Hermione. They were bound to write back quickly; they couldn’t possibly ignore a Dementor attack. He’d\\nprobably wake up tomorrow to three fat letters full of sympathy and plans for his immediate\\nremoval to The Burrow. And with that comforting idea, sleep rolled over him, stifling all further\\nthought. But Hedwig didn’t return next morning. Harry spent the day in his bedroom, leaving it only to go\\nto the bathroom. Three times that day Aunt Petunia shoved food into his room through the cat flap Uncle Vernon had installed three summers ago. Every time Harry heard her approaching he tried to question her about the Howler, but he might as well have interrogated the doorknob for all the answers he got. Otherwise, the Dursleys kept well clear of his bedroom. Harry couldn’t see the point of forcing his company on them; another row would achieve nothing except perhaps make him so angry he’d perform more illegal magic. So it went on for three whole days. Harry was alternately filled with restless energy that made\\nhim unable to settle to anything, during which time he paced his bedroom, furious at the whole\\nlot of them for leaving him to stew in this mess; and with a lethargy so complete that he could lie\\non his bed for an hour at a time, staring dazedly into space, aching with dread at the thought of\\nthe Ministry hearing. What if they ruled against him? What if he was expelled and his wand was snapped in half? What would he do, where would he go? He could not return to living full-time with the Dursleys, not now he knew the other world, the one to which he really belonged.', 'content_type': 'text', 'score': None, 'meta': {'name': 'hp5.txt', '_split_id': 9}, 'embedding': None, 'id': '7f1010e61b84055fd2bd4c1c6887ff74'}>]\n",
            "n_files_input: 7\n",
            "n_docs_output: 828\n"
          ]
        }
      ],
      "source": [
        "hp_preprocessor = PreProcessor(\n",
        "    clean_empty_lines=True,\n",
        "    clean_whitespace=True,\n",
        "    clean_header_footer=False,\n",
        "    split_by=\"sentence\", # Dokument wird anhand von Sätzen getrennt\n",
        "    split_length=100, # Nach 100 Sätzen erfolgt die Trennung -> ein Dokument besteht aus 100 Sätzen\n",
        "    split_overlap = 2, # 2 Sätze Überlappung bei den einzelnen Dokumenten\n",
        "    split_respect_sentence_boundary=False\n",
        ")\n",
        "nested_docs = [hp_preprocessor.process(doc) for doc in all_hp_books]\n",
        "hp_docs = [doc for x in nested_docs for doc in x]\n",
        "\n",
        "print(hp_docs[0:10])\n",
        "\n",
        "print(f\"n_files_input: {len(all_hp_books)}\\nn_docs_output: {len(hp_docs)}\")"
      ]
    },
    {
      "cell_type": "markdown",
      "metadata": {
        "id": "_JmBQsFMaXkx"
      },
      "source": [
        "### Schritt 3: Retriever und Reader konfigurieren"
      ]
    },
    {
      "cell_type": "markdown",
      "metadata": {
        "id": "TImrwx0gadE6"
      },
      "source": [
        "Bevor Retriever und Reader konfiguriert werden, müssen die erzeugten Dokument noch in den DocumentStore geschrieben werden..."
      ]
    },
    {
      "cell_type": "code",
      "execution_count": 7,
      "metadata": {
        "id": "2JWeaxL0uryj"
      },
      "outputs": [],
      "source": [
        "hp_document_store.write_documents(hp_docs)"
      ]
    },
    {
      "cell_type": "markdown",
      "metadata": {
        "id": "xqX6-hHualMh"
      },
      "source": [
        "Anschließend können Retriever- und Reader-Instanzen erzeugt werden"
      ]
    },
    {
      "cell_type": "code",
      "execution_count": 8,
      "metadata": {
        "colab": {
          "base_uri": "https://localhost:8080/"
        },
        "id": "Wwj8OfRF8FI1",
        "outputId": "5eae41fe-889a-454c-9aec-b2eb3e6b9e8d"
      },
      "outputs": [
        {
          "name": "stderr",
          "output_type": "stream",
          "text": [
            "WARNING - haystack.nodes.retriever.sparse -  This class is now deprecated. Please use the BM25Retriever instead\n"
          ]
        }
      ],
      "source": [
        "hp_retriever = ElasticsearchRetriever(document_store=hp_document_store)"
      ]
    },
    {
      "cell_type": "markdown",
      "metadata": {
        "id": "yY0M5bGhatJA"
      },
      "source": [
        "Beim Reader gibt man zusätzlich noch den Link zum vortrainierten Sprachmodell an auf Huggingface an. Den korrekten Namen kann man [oben auf der Huggingface-Seite](https://huggingface.co/deepset/roberta-base-squad2) rauskopieren."
      ]
    },
    {
      "cell_type": "code",
      "execution_count": 9,
      "metadata": {
        "colab": {
          "base_uri": "https://localhost:8080/",
          "height": 446,
          "referenced_widgets": [
            "930bdc8265a046f2956637bf8f2d8720",
            "bd10467fe9a6433c83629d53a27bffb6",
            "a2885c1bb97e4be5b14b04c6149e92fe",
            "a0daf8b228fe47f6bfdb73249c8eb71d",
            "cda6187fb37745c686374f723e322261",
            "49775e16c5884adc8a531886c717713f",
            "44d41d409f1c47ce81b3deec22b8006b",
            "c0f7018b1d724f3ab16315e4cab5266c",
            "b8200739229f4b0d832b5efd01402948",
            "3ea5c2ac77864796b0716a442e88e850",
            "f863d9c3c46d4caf9bf133bedd29dc91",
            "e7638bf2190940c8b1745b610af81150",
            "9f2c8eb15d6d43e6a80e6022ba53c97b",
            "fa0d7d0ae82343c3afa69e45abeb28be",
            "31ae1b8e20a6485f948a228ba8e0038b",
            "21c15e2f85004a6298cc1821e3bbc803",
            "8365d104772f4950a1e0c0260f93e0da",
            "111b5d179a57499ba014ddf47689dd57",
            "ad5244e0cfee4409ac89825a3d2dcd25",
            "3461461e3f614389b32d38e7f0a5fe54",
            "11000d333b5a400aaf855ef00bb707c9",
            "60353a94e0614268bf36c619d5ade190",
            "cf0ea4a572074f45bf231c9b8634ffd7",
            "833f8a0177824583b6e259fb0b3c308c",
            "3a82ae050eb841b5ae31af0c79b20117",
            "cc12e47705504a02ae88f0c6baf02d97",
            "37def2d818cb4a978c05e59e94f1a31c",
            "6f61742d98234b95842f7b93cd316062",
            "c32f28a2606947ec82b4446f70354e21",
            "177aff6d45a941d791f17f099b4bbae1",
            "491f35e7f0174c5fa21f1ca72a1ab4af",
            "01c96c8e78b14d1c92200fd9290fa7fb",
            "0f39dcf4621349eaa6fd57dd2f81c915",
            "26e1070443ac416597f85a2ac02aa9bd",
            "7c736bbac9ad467e887087c4b1109913",
            "6e67066a8fee497fa0d131751163e48e",
            "4a196d80218e4024b8b67cfe3432bd29",
            "c542b26e8de44074bc1b3e3e4a0c8a9b",
            "006fafcef52f445b95627bf763bf698d",
            "863dcd44d3994b3b8e32591bae564305",
            "3648bb398ed1412a89c4942460c71b2e",
            "24ae4b4b6e07407bb7db321420e85470",
            "4eb35d5849dd4ba2ab8b7d34be1e38f6",
            "79cfa833a3b34fb6b150cc0fbcda0e40",
            "1ab766be08d3475eaf6be816e7bbf477",
            "f220812d067d430c9e0b0fc0913cb389",
            "a1eff4d355504ffdb710d4fd56f2b4ad",
            "46f8705304384dada0d4ab2efb1baecb",
            "1a4ee053af734bf5a00cc91f23a4def1",
            "5c8aa9e364574b60b466ebd9ddbabe43",
            "5a748c68790f4026aca4d835e94ae5e3",
            "554dc5f4d30c47eebabd30111c82d81c",
            "a683bda5a4b64b46882c1edf2d5cdb63",
            "f2ca07376c1a4805a73d47ba409102c7",
            "f4bbc24542c94e9fa60303e455c6b73c",
            "9519cdf47f2d41dab90be98889192175",
            "04d62a6afe0546f39bfc929e0610cebb",
            "66c18ddd34754641aebcdeddd7884b22",
            "e1b694978a7f43c59ef12bc1d4fa6965",
            "b3ff7a63160342e3abf681d90b49c732",
            "f451b853bcfd421b8523a398e4f2bef1",
            "c441bc69c04c475fbee878dee3d35e08",
            "83bdabe148a245f892074fb71d5693d6",
            "0c469d93f4454777b0726c6dd3c25c08",
            "97749a48b6734926bf22d79f0eb8ea32",
            "4c418bfba19047b2872b5e4568913224"
          ]
        },
        "id": "LqIOYYlM74Fn",
        "outputId": "87cfb6c0-e22c-4f2b-9ef3-6c5a48646405"
      },
      "outputs": [
        {
          "name": "stderr",
          "output_type": "stream",
          "text": [
            "INFO - haystack.modeling.utils -  Using devices: CUDA:0\n",
            "INFO - haystack.modeling.utils -  Number of GPUs: 1\n",
            "INFO - haystack.modeling.model.language_model -  LOADING MODEL\n",
            "INFO - haystack.modeling.model.language_model -  =============\n",
            "INFO - haystack.modeling.model.language_model -  Could not find deepset/roberta-base-squad2 locally.\n",
            "INFO - haystack.modeling.model.language_model -  Looking on Transformers Model Hub (in local cache and online)...\n"
          ]
        },
        {
          "data": {
            "application/vnd.jupyter.widget-view+json": {
              "model_id": "930bdc8265a046f2956637bf8f2d8720",
              "version_major": 2,
              "version_minor": 0
            },
            "text/plain": [
              "Downloading:   0%|          | 0.00/571 [00:00<?, ?B/s]"
            ]
          },
          "metadata": {},
          "output_type": "display_data"
        },
        {
          "data": {
            "application/vnd.jupyter.widget-view+json": {
              "model_id": "e7638bf2190940c8b1745b610af81150",
              "version_major": 2,
              "version_minor": 0
            },
            "text/plain": [
              "Downloading:   0%|          | 0.00/473M [00:00<?, ?B/s]"
            ]
          },
          "metadata": {},
          "output_type": "display_data"
        },
        {
          "name": "stderr",
          "output_type": "stream",
          "text": [
            "INFO - haystack.modeling.model.language_model -  Loaded deepset/roberta-base-squad2\n"
          ]
        },
        {
          "data": {
            "application/vnd.jupyter.widget-view+json": {
              "model_id": "cf0ea4a572074f45bf231c9b8634ffd7",
              "version_major": 2,
              "version_minor": 0
            },
            "text/plain": [
              "Downloading:   0%|          | 0.00/79.0 [00:00<?, ?B/s]"
            ]
          },
          "metadata": {},
          "output_type": "display_data"
        },
        {
          "data": {
            "application/vnd.jupyter.widget-view+json": {
              "model_id": "26e1070443ac416597f85a2ac02aa9bd",
              "version_major": 2,
              "version_minor": 0
            },
            "text/plain": [
              "Downloading:   0%|          | 0.00/878k [00:00<?, ?B/s]"
            ]
          },
          "metadata": {},
          "output_type": "display_data"
        },
        {
          "data": {
            "application/vnd.jupyter.widget-view+json": {
              "model_id": "1ab766be08d3475eaf6be816e7bbf477",
              "version_major": 2,
              "version_minor": 0
            },
            "text/plain": [
              "Downloading:   0%|          | 0.00/446k [00:00<?, ?B/s]"
            ]
          },
          "metadata": {},
          "output_type": "display_data"
        },
        {
          "data": {
            "application/vnd.jupyter.widget-view+json": {
              "model_id": "9519cdf47f2d41dab90be98889192175",
              "version_major": 2,
              "version_minor": 0
            },
            "text/plain": [
              "Downloading:   0%|          | 0.00/772 [00:00<?, ?B/s]"
            ]
          },
          "metadata": {},
          "output_type": "display_data"
        },
        {
          "name": "stderr",
          "output_type": "stream",
          "text": [
            "INFO - haystack.modeling.utils -  Using devices: CUDA\n",
            "INFO - haystack.modeling.utils -  Number of GPUs: 1\n",
            "INFO - haystack.modeling.infer -  Got ya 2 parallel workers to do inference ...\n",
            "INFO - haystack.modeling.infer -   0     0  \n",
            "INFO - haystack.modeling.infer -  /w\\   /w\\ \n",
            "INFO - haystack.modeling.infer -  /'\\   / \\ \n"
          ]
        }
      ],
      "source": [
        "hp_reader = FARMReader(model_name_or_path=\"deepset/roberta-base-squad2\", use_gpu=True)"
      ]
    },
    {
      "cell_type": "markdown",
      "metadata": {
        "id": "FLvFQiyhbQTq"
      },
      "source": [
        "Nach der Initialisierung erfolgt das Zusammenbauen der einzelnen Komponenten - konkret von Reader und Retriever:"
      ]
    },
    {
      "cell_type": "code",
      "execution_count": 10,
      "metadata": {
        "id": "uDOxq-JB8PQN"
      },
      "outputs": [],
      "source": [
        "hp_pipe = ExtractiveQAPipeline(hp_reader, hp_retriever)"
      ]
    },
    {
      "cell_type": "markdown",
      "metadata": {
        "id": "-9woqnD_b7bQ"
      },
      "source": [
        "### Schritt 4: Fragen stellen"
      ]
    },
    {
      "cell_type": "markdown",
      "metadata": {
        "id": "47Sg8U71blz6"
      },
      "source": [
        "Stellt man eine Frage an das System..."
      ]
    },
    {
      "cell_type": "code",
      "execution_count": 16,
      "metadata": {
        "id": "zO-a3fEfahTy"
      },
      "outputs": [],
      "source": [
        "mydic = {\"Peter\":[\"hp1.txt\", \"hp2.txt\"], \"Albert\":[\"hp3.txt\"], \"josef\":[\"hp4.txt\", \"hp5.txt\", \"hp6.txt\", \"hp7.txt\"]}"
      ]
    },
    {
      "cell_type": "code",
      "execution_count": 17,
      "metadata": {
        "id": "sK-26Ec58h4u"
      },
      "outputs": [],
      "source": [
        "def pipe(user_input:str, user):\n",
        "  hp_prediction = hp_pipe.run(query= user_input, \n",
        "                              params={\"Retriever\": {\"top_k\": 10}, \"filters\": {\"name\": mydic[f\"{user}\"]}, \"Reader\": {\"top_k\": 5}})\n",
        "  return hp_prediction"
      ]
    },
    {
      "cell_type": "code",
      "execution_count": 22,
      "metadata": {
        "colab": {
          "base_uri": "https://localhost:8080/"
        },
        "id": "12iYNSJdb4SF",
        "outputId": "6a5d5259-d669-44ab-de5f-664cc71772d8"
      },
      "outputs": [
        {
          "name": "stderr",
          "output_type": "stream",
          "text": [
            "Inferencing Samples: 100%|██████████| 1/1 [00:00<00:00,  3.68 Batches/s]\n",
            "Inferencing Samples: 100%|██████████| 1/1 [00:00<00:00,  4.75 Batches/s]\n",
            "Inferencing Samples: 100%|██████████| 1/1 [00:00<00:00,  3.89 Batches/s]\n",
            "Inferencing Samples: 100%|██████████| 1/1 [00:00<00:00,  4.58 Batches/s]\n",
            "Inferencing Samples: 100%|██████████| 1/1 [00:00<00:00,  4.93 Batches/s]\n",
            "Inferencing Samples: 100%|██████████| 1/1 [00:00<00:00,  5.09 Batches/s]\n",
            "Inferencing Samples: 100%|██████████| 1/1 [00:00<00:00,  4.40 Batches/s]\n",
            "Inferencing Samples: 100%|██████████| 1/1 [00:00<00:00,  4.49 Batches/s]\n",
            "Inferencing Samples: 100%|██████████| 1/1 [00:00<00:00,  4.09 Batches/s]\n",
            "Inferencing Samples: 100%|██████████| 1/1 [00:00<00:00,  4.37 Batches/s]\n"
          ]
        }
      ],
      "source": [
        "test = pipe(\"Who is Harry Potter's best friend?\", \"Peter\")"
      ]
    },
    {
      "cell_type": "markdown",
      "metadata": {
        "id": "3ZnO-CZ9bt-v"
      },
      "source": [
        "... wird die richtige Antwort geliefert. Es ist richtig, dass Ron und Hermine Harrys beste Freunde sind."
      ]
    },
    {
      "cell_type": "code",
      "execution_count": 23,
      "metadata": {
        "colab": {
          "base_uri": "https://localhost:8080/"
        },
        "id": "0244yA4mb23x",
        "outputId": "f31f0e36-60a5-40ae-cd38-da844d337254"
      },
      "outputs": [
        {
          "name": "stderr",
          "output_type": "stream",
          "text": [
            "WARNING - root -  print_answers received details='minimal', which was not understood. \n",
            "WARNING - root -  Valid values are minimum, medium and 'all'. Using 'all'.\n"
          ]
        },
        {
          "name": "stdout",
          "output_type": "stream",
          "text": [
            "\n",
            "Query: Who is Harry Potter's best friend?\n",
            "Answers:\n",
            "[   <Answer {'answer': 'Piers Polkiss', 'type': 'extractive', 'score': 0.9187772870063782, 'context': \"unt Petunia frantically -- and a moment later, Dudley's best friend, Piers Polkiss, walked in with his mother. Piers was a scrawny boy with a face lik\", 'offsets_in_document': [{'start': 4544, 'end': 4557}], 'offsets_in_context': [{'start': 69, 'end': 82}], 'document_id': '9a86fed060e22a8bea46b16ae52b109e', 'meta': {'_split_id': 4, 'name': 'hp1.txt'}}>,\n",
            "    <Answer {'answer': 'Muggle-born', 'type': 'extractive', 'score': 0.8976055383682251, 'context': ' not going anywhere!\" said Harry fiercely. \"One of my best\\nfriends is Muggle-born; she\\'ll be first in line if the Chamber really has\\nbeen opened -\"\\n\"H', 'offsets_in_document': [{'start': 6356, 'end': 6367}], 'offsets_in_context': [{'start': 70, 'end': 81}], 'document_id': '6d10be37a0920f60b600cbb9df34e9f7', 'meta': {'_split_id': 33, 'name': 'hp2.txt'}}>,\n",
            "    <Answer {'answer': 'Justin', 'type': 'extractive', 'score': 0.8001914322376251, 'context': 'ed her knight off his horse and dragged him off\\nthe board. \"Go and find Justin if it\\'s so important to you.\" So Harry got up and left through the port', 'offsets_in_document': [{'start': 3777, 'end': 3783}], 'offsets_in_context': [{'start': 72, 'end': 78}], 'document_id': '7a33e764e270ac302969e5ed6b269361', 'meta': {'_split_id': 37, 'name': 'hp2.txt'}}>,\n",
            "    <Answer {'answer': 'Gilderoy Lockhart', 'type': 'extractive', 'score': 0.7992289364337921, 'context': ' on the front. \"Me,\" he said, pointing at it and winking as well. \"Gilderoy Lockhart,\\nOrder of Merlin, Third Class, Honorary Member of the Dark Force\\n', 'offsets_in_document': [{'start': 5425, 'end': 5442}], 'offsets_in_context': [{'start': 67, 'end': 84}], 'document_id': '1b6b01519066bf4d6bf86abc088ceb27', 'meta': {'_split_id': 17, 'name': 'hp2.txt'}}>,\n",
            "    <Answer {'answer': 'Yvonne', 'type': 'extractive', 'score': 0.7849227786064148, 'context': 'derstand them, like a slug. \"What about what\\'s-her-name, your friend -- Yvonne?\" \"On vacation in Majorca,\" snapped Aunt Petunia. \"You could just leave', 'offsets_in_document': [{'start': 3326, 'end': 3332}], 'offsets_in_context': [{'start': 72, 'end': 78}], 'document_id': '9a86fed060e22a8bea46b16ae52b109e', 'meta': {'_split_id': 4, 'name': 'hp1.txt'}}>]\n"
          ]
        }
      ],
      "source": [
        "print_answers(test, details=\"minimal\")"
      ]
    },
    {
      "cell_type": "markdown",
      "metadata": {
        "id": "ThOGbDSjb3jB"
      },
      "source": [
        "## Faust-QA"
      ]
    },
    {
      "cell_type": "markdown",
      "metadata": {
        "id": "isdnFUeLcRNJ"
      },
      "source": [
        "Die gleichen Schritte werden auch beim Faust-QA befolgt"
      ]
    },
    {
      "cell_type": "code",
      "execution_count": null,
      "metadata": {
        "id": "iy03TcdP9k6m"
      },
      "outputs": [],
      "source": [
        "faust_doc_store = ElasticsearchDocumentStore(host=\"localhost\", username=\"\", password=\"\", index=\"faust_document_store\")"
      ]
    },
    {
      "cell_type": "markdown",
      "metadata": {
        "id": "Fbd_K46Kcv2B"
      },
      "source": [
        "Hat man nur eine Datei, genügt es, den ```TextConverter``` für die Weiterverarbeitung zu verwenden. Haystack kann Txt-, PDF- oder Docx-Dateien entgegennehmen."
      ]
    },
    {
      "cell_type": "code",
      "execution_count": null,
      "metadata": {
        "id": "m7VigILX9sPz"
      },
      "outputs": [],
      "source": [
        "text_converter = TextConverter(valid_languages=[\"de\"])\n",
        "faust_doc = text_converter.convert(file_path=\"faust/faust.txt\", meta=None)"
      ]
    },
    {
      "cell_type": "code",
      "execution_count": null,
      "metadata": {
        "id": "FEiSDPKD-qxf"
      },
      "outputs": [],
      "source": [
        "faust_preprocessor = PreProcessor(\n",
        "    clean_empty_lines=True,\n",
        "    clean_whitespace=True,\n",
        "    clean_header_footer=False,\n",
        "    split_by=\"word\",\n",
        "    split_length=100,\n",
        "    split_overlap = 2,\n",
        "    split_respect_sentence_boundary=True\n",
        ")\n",
        "faust_preprocessed = faust_preprocessor.process(faust_doc)\n",
        "print(f\"n_files_input: {len(faust_doc)}\\nn_docs_output: {len(faust_preprocessed)}\")"
      ]
    },
    {
      "cell_type": "code",
      "execution_count": null,
      "metadata": {
        "id": "9L0GKsYcA5bP"
      },
      "outputs": [],
      "source": [
        "faust_doc_store.write_documents(faust_preprocessed)"
      ]
    },
    {
      "cell_type": "code",
      "execution_count": null,
      "metadata": {
        "id": "twVF-iB9BRmA"
      },
      "outputs": [],
      "source": [
        "faust_retriever = ElasticsearchRetriever(document_store=faust_doc_store)"
      ]
    },
    {
      "cell_type": "code",
      "execution_count": null,
      "metadata": {
        "id": "481e_evEBjT9"
      },
      "outputs": [],
      "source": [
        "faust_reader = FARMReader(model_name_or_path=\"deepset/gelectra-large-germanquad\", use_gpu=True)"
      ]
    },
    {
      "cell_type": "code",
      "execution_count": null,
      "metadata": {
        "id": "fpTDTDv-BsoH"
      },
      "outputs": [],
      "source": [
        "faust_pipe = ExtractiveQAPipeline(faust_reader, faust_retriever)\n",
        "faust_prediction = faust_pipe.run(query=\"Was hat Faust studiert?\",\n",
        "                                  params={\"Retriever\": {\"top_k\": 10, \"filters\": {\"name\": \"\"}}, \"Reader\": {\"top_k\": 5}})\n"
      ]
    },
    {
      "cell_type": "markdown",
      "metadata": {
        "id": "_jzaA8oYcdsw"
      },
      "source": [
        "Auch hier stimmt die Antwort. Die ersten Zeilen aus Faust hat wohl jeder noch in Erinnerung."
      ]
    },
    {
      "cell_type": "code",
      "execution_count": null,
      "metadata": {
        "id": "8srsY9J9ccBZ"
      },
      "outputs": [],
      "source": [
        "print_answers(faust_prediction, details=\"minimal\")"
      ]
    }
  ],
  "metadata": {
    "accelerator": "GPU",
    "colab": {
      "collapsed_sections": [],
      "name": "dic daten.ipynb",
      "provenance": []
    },
    "gpuClass": "standard",
    "kernelspec": {
      "display_name": "Python 3.9.12 ('base')",
      "language": "python",
      "name": "python3"
    },
    "language_info": {
      "name": "python",
      "version": "3.9.12"
    },
    "vscode": {
      "interpreter": {
        "hash": "e70919909854e100ec80cbba70b064efa9fed7ffb746d468b7cbd8f578819b80"
      }
    },
    "widgets": {
      "application/vnd.jupyter.widget-state+json": {
        "006fafcef52f445b95627bf763bf698d": {
          "model_module": "@jupyter-widgets/base",
          "model_module_version": "1.2.0",
          "model_name": "LayoutModel",
          "state": {
            "_model_module": "@jupyter-widgets/base",
            "_model_module_version": "1.2.0",
            "_model_name": "LayoutModel",
            "_view_count": null,
            "_view_module": "@jupyter-widgets/base",
            "_view_module_version": "1.2.0",
            "_view_name": "LayoutView",
            "align_content": null,
            "align_items": null,
            "align_self": null,
            "border": null,
            "bottom": null,
            "display": null,
            "flex": null,
            "flex_flow": null,
            "grid_area": null,
            "grid_auto_columns": null,
            "grid_auto_flow": null,
            "grid_auto_rows": null,
            "grid_column": null,
            "grid_gap": null,
            "grid_row": null,
            "grid_template_areas": null,
            "grid_template_columns": null,
            "grid_template_rows": null,
            "height": null,
            "justify_content": null,
            "justify_items": null,
            "left": null,
            "margin": null,
            "max_height": null,
            "max_width": null,
            "min_height": null,
            "min_width": null,
            "object_fit": null,
            "object_position": null,
            "order": null,
            "overflow": null,
            "overflow_x": null,
            "overflow_y": null,
            "padding": null,
            "right": null,
            "top": null,
            "visibility": null,
            "width": null
          }
        },
        "01c96c8e78b14d1c92200fd9290fa7fb": {
          "model_module": "@jupyter-widgets/base",
          "model_module_version": "1.2.0",
          "model_name": "LayoutModel",
          "state": {
            "_model_module": "@jupyter-widgets/base",
            "_model_module_version": "1.2.0",
            "_model_name": "LayoutModel",
            "_view_count": null,
            "_view_module": "@jupyter-widgets/base",
            "_view_module_version": "1.2.0",
            "_view_name": "LayoutView",
            "align_content": null,
            "align_items": null,
            "align_self": null,
            "border": null,
            "bottom": null,
            "display": null,
            "flex": null,
            "flex_flow": null,
            "grid_area": null,
            "grid_auto_columns": null,
            "grid_auto_flow": null,
            "grid_auto_rows": null,
            "grid_column": null,
            "grid_gap": null,
            "grid_row": null,
            "grid_template_areas": null,
            "grid_template_columns": null,
            "grid_template_rows": null,
            "height": null,
            "justify_content": null,
            "justify_items": null,
            "left": null,
            "margin": null,
            "max_height": null,
            "max_width": null,
            "min_height": null,
            "min_width": null,
            "object_fit": null,
            "object_position": null,
            "order": null,
            "overflow": null,
            "overflow_x": null,
            "overflow_y": null,
            "padding": null,
            "right": null,
            "top": null,
            "visibility": null,
            "width": null
          }
        },
        "04d62a6afe0546f39bfc929e0610cebb": {
          "model_module": "@jupyter-widgets/controls",
          "model_module_version": "1.5.0",
          "model_name": "HTMLModel",
          "state": {
            "_dom_classes": [],
            "_model_module": "@jupyter-widgets/controls",
            "_model_module_version": "1.5.0",
            "_model_name": "HTMLModel",
            "_view_count": null,
            "_view_module": "@jupyter-widgets/controls",
            "_view_module_version": "1.5.0",
            "_view_name": "HTMLView",
            "description": "",
            "description_tooltip": null,
            "layout": "IPY_MODEL_f451b853bcfd421b8523a398e4f2bef1",
            "placeholder": "​",
            "style": "IPY_MODEL_c441bc69c04c475fbee878dee3d35e08",
            "value": "Downloading: 100%"
          }
        },
        "0c469d93f4454777b0726c6dd3c25c08": {
          "model_module": "@jupyter-widgets/controls",
          "model_module_version": "1.5.0",
          "model_name": "ProgressStyleModel",
          "state": {
            "_model_module": "@jupyter-widgets/controls",
            "_model_module_version": "1.5.0",
            "_model_name": "ProgressStyleModel",
            "_view_count": null,
            "_view_module": "@jupyter-widgets/base",
            "_view_module_version": "1.2.0",
            "_view_name": "StyleView",
            "bar_color": null,
            "description_width": ""
          }
        },
        "0f39dcf4621349eaa6fd57dd2f81c915": {
          "model_module": "@jupyter-widgets/controls",
          "model_module_version": "1.5.0",
          "model_name": "DescriptionStyleModel",
          "state": {
            "_model_module": "@jupyter-widgets/controls",
            "_model_module_version": "1.5.0",
            "_model_name": "DescriptionStyleModel",
            "_view_count": null,
            "_view_module": "@jupyter-widgets/base",
            "_view_module_version": "1.2.0",
            "_view_name": "StyleView",
            "description_width": ""
          }
        },
        "11000d333b5a400aaf855ef00bb707c9": {
          "model_module": "@jupyter-widgets/base",
          "model_module_version": "1.2.0",
          "model_name": "LayoutModel",
          "state": {
            "_model_module": "@jupyter-widgets/base",
            "_model_module_version": "1.2.0",
            "_model_name": "LayoutModel",
            "_view_count": null,
            "_view_module": "@jupyter-widgets/base",
            "_view_module_version": "1.2.0",
            "_view_name": "LayoutView",
            "align_content": null,
            "align_items": null,
            "align_self": null,
            "border": null,
            "bottom": null,
            "display": null,
            "flex": null,
            "flex_flow": null,
            "grid_area": null,
            "grid_auto_columns": null,
            "grid_auto_flow": null,
            "grid_auto_rows": null,
            "grid_column": null,
            "grid_gap": null,
            "grid_row": null,
            "grid_template_areas": null,
            "grid_template_columns": null,
            "grid_template_rows": null,
            "height": null,
            "justify_content": null,
            "justify_items": null,
            "left": null,
            "margin": null,
            "max_height": null,
            "max_width": null,
            "min_height": null,
            "min_width": null,
            "object_fit": null,
            "object_position": null,
            "order": null,
            "overflow": null,
            "overflow_x": null,
            "overflow_y": null,
            "padding": null,
            "right": null,
            "top": null,
            "visibility": null,
            "width": null
          }
        },
        "111b5d179a57499ba014ddf47689dd57": {
          "model_module": "@jupyter-widgets/controls",
          "model_module_version": "1.5.0",
          "model_name": "DescriptionStyleModel",
          "state": {
            "_model_module": "@jupyter-widgets/controls",
            "_model_module_version": "1.5.0",
            "_model_name": "DescriptionStyleModel",
            "_view_count": null,
            "_view_module": "@jupyter-widgets/base",
            "_view_module_version": "1.2.0",
            "_view_name": "StyleView",
            "description_width": ""
          }
        },
        "177aff6d45a941d791f17f099b4bbae1": {
          "model_module": "@jupyter-widgets/base",
          "model_module_version": "1.2.0",
          "model_name": "LayoutModel",
          "state": {
            "_model_module": "@jupyter-widgets/base",
            "_model_module_version": "1.2.0",
            "_model_name": "LayoutModel",
            "_view_count": null,
            "_view_module": "@jupyter-widgets/base",
            "_view_module_version": "1.2.0",
            "_view_name": "LayoutView",
            "align_content": null,
            "align_items": null,
            "align_self": null,
            "border": null,
            "bottom": null,
            "display": null,
            "flex": null,
            "flex_flow": null,
            "grid_area": null,
            "grid_auto_columns": null,
            "grid_auto_flow": null,
            "grid_auto_rows": null,
            "grid_column": null,
            "grid_gap": null,
            "grid_row": null,
            "grid_template_areas": null,
            "grid_template_columns": null,
            "grid_template_rows": null,
            "height": null,
            "justify_content": null,
            "justify_items": null,
            "left": null,
            "margin": null,
            "max_height": null,
            "max_width": null,
            "min_height": null,
            "min_width": null,
            "object_fit": null,
            "object_position": null,
            "order": null,
            "overflow": null,
            "overflow_x": null,
            "overflow_y": null,
            "padding": null,
            "right": null,
            "top": null,
            "visibility": null,
            "width": null
          }
        },
        "1a4ee053af734bf5a00cc91f23a4def1": {
          "model_module": "@jupyter-widgets/base",
          "model_module_version": "1.2.0",
          "model_name": "LayoutModel",
          "state": {
            "_model_module": "@jupyter-widgets/base",
            "_model_module_version": "1.2.0",
            "_model_name": "LayoutModel",
            "_view_count": null,
            "_view_module": "@jupyter-widgets/base",
            "_view_module_version": "1.2.0",
            "_view_name": "LayoutView",
            "align_content": null,
            "align_items": null,
            "align_self": null,
            "border": null,
            "bottom": null,
            "display": null,
            "flex": null,
            "flex_flow": null,
            "grid_area": null,
            "grid_auto_columns": null,
            "grid_auto_flow": null,
            "grid_auto_rows": null,
            "grid_column": null,
            "grid_gap": null,
            "grid_row": null,
            "grid_template_areas": null,
            "grid_template_columns": null,
            "grid_template_rows": null,
            "height": null,
            "justify_content": null,
            "justify_items": null,
            "left": null,
            "margin": null,
            "max_height": null,
            "max_width": null,
            "min_height": null,
            "min_width": null,
            "object_fit": null,
            "object_position": null,
            "order": null,
            "overflow": null,
            "overflow_x": null,
            "overflow_y": null,
            "padding": null,
            "right": null,
            "top": null,
            "visibility": null,
            "width": null
          }
        },
        "1ab766be08d3475eaf6be816e7bbf477": {
          "model_module": "@jupyter-widgets/controls",
          "model_module_version": "1.5.0",
          "model_name": "HBoxModel",
          "state": {
            "_dom_classes": [],
            "_model_module": "@jupyter-widgets/controls",
            "_model_module_version": "1.5.0",
            "_model_name": "HBoxModel",
            "_view_count": null,
            "_view_module": "@jupyter-widgets/controls",
            "_view_module_version": "1.5.0",
            "_view_name": "HBoxView",
            "box_style": "",
            "children": [
              "IPY_MODEL_f220812d067d430c9e0b0fc0913cb389",
              "IPY_MODEL_a1eff4d355504ffdb710d4fd56f2b4ad",
              "IPY_MODEL_46f8705304384dada0d4ab2efb1baecb"
            ],
            "layout": "IPY_MODEL_1a4ee053af734bf5a00cc91f23a4def1"
          }
        },
        "21c15e2f85004a6298cc1821e3bbc803": {
          "model_module": "@jupyter-widgets/base",
          "model_module_version": "1.2.0",
          "model_name": "LayoutModel",
          "state": {
            "_model_module": "@jupyter-widgets/base",
            "_model_module_version": "1.2.0",
            "_model_name": "LayoutModel",
            "_view_count": null,
            "_view_module": "@jupyter-widgets/base",
            "_view_module_version": "1.2.0",
            "_view_name": "LayoutView",
            "align_content": null,
            "align_items": null,
            "align_self": null,
            "border": null,
            "bottom": null,
            "display": null,
            "flex": null,
            "flex_flow": null,
            "grid_area": null,
            "grid_auto_columns": null,
            "grid_auto_flow": null,
            "grid_auto_rows": null,
            "grid_column": null,
            "grid_gap": null,
            "grid_row": null,
            "grid_template_areas": null,
            "grid_template_columns": null,
            "grid_template_rows": null,
            "height": null,
            "justify_content": null,
            "justify_items": null,
            "left": null,
            "margin": null,
            "max_height": null,
            "max_width": null,
            "min_height": null,
            "min_width": null,
            "object_fit": null,
            "object_position": null,
            "order": null,
            "overflow": null,
            "overflow_x": null,
            "overflow_y": null,
            "padding": null,
            "right": null,
            "top": null,
            "visibility": null,
            "width": null
          }
        },
        "24ae4b4b6e07407bb7db321420e85470": {
          "model_module": "@jupyter-widgets/controls",
          "model_module_version": "1.5.0",
          "model_name": "ProgressStyleModel",
          "state": {
            "_model_module": "@jupyter-widgets/controls",
            "_model_module_version": "1.5.0",
            "_model_name": "ProgressStyleModel",
            "_view_count": null,
            "_view_module": "@jupyter-widgets/base",
            "_view_module_version": "1.2.0",
            "_view_name": "StyleView",
            "bar_color": null,
            "description_width": ""
          }
        },
        "26e1070443ac416597f85a2ac02aa9bd": {
          "model_module": "@jupyter-widgets/controls",
          "model_module_version": "1.5.0",
          "model_name": "HBoxModel",
          "state": {
            "_dom_classes": [],
            "_model_module": "@jupyter-widgets/controls",
            "_model_module_version": "1.5.0",
            "_model_name": "HBoxModel",
            "_view_count": null,
            "_view_module": "@jupyter-widgets/controls",
            "_view_module_version": "1.5.0",
            "_view_name": "HBoxView",
            "box_style": "",
            "children": [
              "IPY_MODEL_7c736bbac9ad467e887087c4b1109913",
              "IPY_MODEL_6e67066a8fee497fa0d131751163e48e",
              "IPY_MODEL_4a196d80218e4024b8b67cfe3432bd29"
            ],
            "layout": "IPY_MODEL_c542b26e8de44074bc1b3e3e4a0c8a9b"
          }
        },
        "31ae1b8e20a6485f948a228ba8e0038b": {
          "model_module": "@jupyter-widgets/controls",
          "model_module_version": "1.5.0",
          "model_name": "HTMLModel",
          "state": {
            "_dom_classes": [],
            "_model_module": "@jupyter-widgets/controls",
            "_model_module_version": "1.5.0",
            "_model_name": "HTMLModel",
            "_view_count": null,
            "_view_module": "@jupyter-widgets/controls",
            "_view_module_version": "1.5.0",
            "_view_name": "HTMLView",
            "description": "",
            "description_tooltip": null,
            "layout": "IPY_MODEL_11000d333b5a400aaf855ef00bb707c9",
            "placeholder": "​",
            "style": "IPY_MODEL_60353a94e0614268bf36c619d5ade190",
            "value": " 473M/473M [00:08&lt;00:00, 59.5MB/s]"
          }
        },
        "3461461e3f614389b32d38e7f0a5fe54": {
          "model_module": "@jupyter-widgets/controls",
          "model_module_version": "1.5.0",
          "model_name": "ProgressStyleModel",
          "state": {
            "_model_module": "@jupyter-widgets/controls",
            "_model_module_version": "1.5.0",
            "_model_name": "ProgressStyleModel",
            "_view_count": null,
            "_view_module": "@jupyter-widgets/base",
            "_view_module_version": "1.2.0",
            "_view_name": "StyleView",
            "bar_color": null,
            "description_width": ""
          }
        },
        "3648bb398ed1412a89c4942460c71b2e": {
          "model_module": "@jupyter-widgets/base",
          "model_module_version": "1.2.0",
          "model_name": "LayoutModel",
          "state": {
            "_model_module": "@jupyter-widgets/base",
            "_model_module_version": "1.2.0",
            "_model_name": "LayoutModel",
            "_view_count": null,
            "_view_module": "@jupyter-widgets/base",
            "_view_module_version": "1.2.0",
            "_view_name": "LayoutView",
            "align_content": null,
            "align_items": null,
            "align_self": null,
            "border": null,
            "bottom": null,
            "display": null,
            "flex": null,
            "flex_flow": null,
            "grid_area": null,
            "grid_auto_columns": null,
            "grid_auto_flow": null,
            "grid_auto_rows": null,
            "grid_column": null,
            "grid_gap": null,
            "grid_row": null,
            "grid_template_areas": null,
            "grid_template_columns": null,
            "grid_template_rows": null,
            "height": null,
            "justify_content": null,
            "justify_items": null,
            "left": null,
            "margin": null,
            "max_height": null,
            "max_width": null,
            "min_height": null,
            "min_width": null,
            "object_fit": null,
            "object_position": null,
            "order": null,
            "overflow": null,
            "overflow_x": null,
            "overflow_y": null,
            "padding": null,
            "right": null,
            "top": null,
            "visibility": null,
            "width": null
          }
        },
        "37def2d818cb4a978c05e59e94f1a31c": {
          "model_module": "@jupyter-widgets/base",
          "model_module_version": "1.2.0",
          "model_name": "LayoutModel",
          "state": {
            "_model_module": "@jupyter-widgets/base",
            "_model_module_version": "1.2.0",
            "_model_name": "LayoutModel",
            "_view_count": null,
            "_view_module": "@jupyter-widgets/base",
            "_view_module_version": "1.2.0",
            "_view_name": "LayoutView",
            "align_content": null,
            "align_items": null,
            "align_self": null,
            "border": null,
            "bottom": null,
            "display": null,
            "flex": null,
            "flex_flow": null,
            "grid_area": null,
            "grid_auto_columns": null,
            "grid_auto_flow": null,
            "grid_auto_rows": null,
            "grid_column": null,
            "grid_gap": null,
            "grid_row": null,
            "grid_template_areas": null,
            "grid_template_columns": null,
            "grid_template_rows": null,
            "height": null,
            "justify_content": null,
            "justify_items": null,
            "left": null,
            "margin": null,
            "max_height": null,
            "max_width": null,
            "min_height": null,
            "min_width": null,
            "object_fit": null,
            "object_position": null,
            "order": null,
            "overflow": null,
            "overflow_x": null,
            "overflow_y": null,
            "padding": null,
            "right": null,
            "top": null,
            "visibility": null,
            "width": null
          }
        },
        "3a82ae050eb841b5ae31af0c79b20117": {
          "model_module": "@jupyter-widgets/controls",
          "model_module_version": "1.5.0",
          "model_name": "FloatProgressModel",
          "state": {
            "_dom_classes": [],
            "_model_module": "@jupyter-widgets/controls",
            "_model_module_version": "1.5.0",
            "_model_name": "FloatProgressModel",
            "_view_count": null,
            "_view_module": "@jupyter-widgets/controls",
            "_view_module_version": "1.5.0",
            "_view_name": "ProgressView",
            "bar_style": "success",
            "description": "",
            "description_tooltip": null,
            "layout": "IPY_MODEL_177aff6d45a941d791f17f099b4bbae1",
            "max": 79,
            "min": 0,
            "orientation": "horizontal",
            "style": "IPY_MODEL_491f35e7f0174c5fa21f1ca72a1ab4af",
            "value": 79
          }
        },
        "3ea5c2ac77864796b0716a442e88e850": {
          "model_module": "@jupyter-widgets/base",
          "model_module_version": "1.2.0",
          "model_name": "LayoutModel",
          "state": {
            "_model_module": "@jupyter-widgets/base",
            "_model_module_version": "1.2.0",
            "_model_name": "LayoutModel",
            "_view_count": null,
            "_view_module": "@jupyter-widgets/base",
            "_view_module_version": "1.2.0",
            "_view_name": "LayoutView",
            "align_content": null,
            "align_items": null,
            "align_self": null,
            "border": null,
            "bottom": null,
            "display": null,
            "flex": null,
            "flex_flow": null,
            "grid_area": null,
            "grid_auto_columns": null,
            "grid_auto_flow": null,
            "grid_auto_rows": null,
            "grid_column": null,
            "grid_gap": null,
            "grid_row": null,
            "grid_template_areas": null,
            "grid_template_columns": null,
            "grid_template_rows": null,
            "height": null,
            "justify_content": null,
            "justify_items": null,
            "left": null,
            "margin": null,
            "max_height": null,
            "max_width": null,
            "min_height": null,
            "min_width": null,
            "object_fit": null,
            "object_position": null,
            "order": null,
            "overflow": null,
            "overflow_x": null,
            "overflow_y": null,
            "padding": null,
            "right": null,
            "top": null,
            "visibility": null,
            "width": null
          }
        },
        "44d41d409f1c47ce81b3deec22b8006b": {
          "model_module": "@jupyter-widgets/controls",
          "model_module_version": "1.5.0",
          "model_name": "DescriptionStyleModel",
          "state": {
            "_model_module": "@jupyter-widgets/controls",
            "_model_module_version": "1.5.0",
            "_model_name": "DescriptionStyleModel",
            "_view_count": null,
            "_view_module": "@jupyter-widgets/base",
            "_view_module_version": "1.2.0",
            "_view_name": "StyleView",
            "description_width": ""
          }
        },
        "46f8705304384dada0d4ab2efb1baecb": {
          "model_module": "@jupyter-widgets/controls",
          "model_module_version": "1.5.0",
          "model_name": "HTMLModel",
          "state": {
            "_dom_classes": [],
            "_model_module": "@jupyter-widgets/controls",
            "_model_module_version": "1.5.0",
            "_model_name": "HTMLModel",
            "_view_count": null,
            "_view_module": "@jupyter-widgets/controls",
            "_view_module_version": "1.5.0",
            "_view_name": "HTMLView",
            "description": "",
            "description_tooltip": null,
            "layout": "IPY_MODEL_f2ca07376c1a4805a73d47ba409102c7",
            "placeholder": "​",
            "style": "IPY_MODEL_f4bbc24542c94e9fa60303e455c6b73c",
            "value": " 446k/446k [00:01&lt;00:00, 529kB/s]"
          }
        },
        "491f35e7f0174c5fa21f1ca72a1ab4af": {
          "model_module": "@jupyter-widgets/controls",
          "model_module_version": "1.5.0",
          "model_name": "ProgressStyleModel",
          "state": {
            "_model_module": "@jupyter-widgets/controls",
            "_model_module_version": "1.5.0",
            "_model_name": "ProgressStyleModel",
            "_view_count": null,
            "_view_module": "@jupyter-widgets/base",
            "_view_module_version": "1.2.0",
            "_view_name": "StyleView",
            "bar_color": null,
            "description_width": ""
          }
        },
        "49775e16c5884adc8a531886c717713f": {
          "model_module": "@jupyter-widgets/base",
          "model_module_version": "1.2.0",
          "model_name": "LayoutModel",
          "state": {
            "_model_module": "@jupyter-widgets/base",
            "_model_module_version": "1.2.0",
            "_model_name": "LayoutModel",
            "_view_count": null,
            "_view_module": "@jupyter-widgets/base",
            "_view_module_version": "1.2.0",
            "_view_name": "LayoutView",
            "align_content": null,
            "align_items": null,
            "align_self": null,
            "border": null,
            "bottom": null,
            "display": null,
            "flex": null,
            "flex_flow": null,
            "grid_area": null,
            "grid_auto_columns": null,
            "grid_auto_flow": null,
            "grid_auto_rows": null,
            "grid_column": null,
            "grid_gap": null,
            "grid_row": null,
            "grid_template_areas": null,
            "grid_template_columns": null,
            "grid_template_rows": null,
            "height": null,
            "justify_content": null,
            "justify_items": null,
            "left": null,
            "margin": null,
            "max_height": null,
            "max_width": null,
            "min_height": null,
            "min_width": null,
            "object_fit": null,
            "object_position": null,
            "order": null,
            "overflow": null,
            "overflow_x": null,
            "overflow_y": null,
            "padding": null,
            "right": null,
            "top": null,
            "visibility": null,
            "width": null
          }
        },
        "4a196d80218e4024b8b67cfe3432bd29": {
          "model_module": "@jupyter-widgets/controls",
          "model_module_version": "1.5.0",
          "model_name": "HTMLModel",
          "state": {
            "_dom_classes": [],
            "_model_module": "@jupyter-widgets/controls",
            "_model_module_version": "1.5.0",
            "_model_name": "HTMLModel",
            "_view_count": null,
            "_view_module": "@jupyter-widgets/controls",
            "_view_module_version": "1.5.0",
            "_view_name": "HTMLView",
            "description": "",
            "description_tooltip": null,
            "layout": "IPY_MODEL_4eb35d5849dd4ba2ab8b7d34be1e38f6",
            "placeholder": "​",
            "style": "IPY_MODEL_79cfa833a3b34fb6b150cc0fbcda0e40",
            "value": " 878k/878k [00:01&lt;00:00, 836kB/s]"
          }
        },
        "4c418bfba19047b2872b5e4568913224": {
          "model_module": "@jupyter-widgets/controls",
          "model_module_version": "1.5.0",
          "model_name": "DescriptionStyleModel",
          "state": {
            "_model_module": "@jupyter-widgets/controls",
            "_model_module_version": "1.5.0",
            "_model_name": "DescriptionStyleModel",
            "_view_count": null,
            "_view_module": "@jupyter-widgets/base",
            "_view_module_version": "1.2.0",
            "_view_name": "StyleView",
            "description_width": ""
          }
        },
        "4eb35d5849dd4ba2ab8b7d34be1e38f6": {
          "model_module": "@jupyter-widgets/base",
          "model_module_version": "1.2.0",
          "model_name": "LayoutModel",
          "state": {
            "_model_module": "@jupyter-widgets/base",
            "_model_module_version": "1.2.0",
            "_model_name": "LayoutModel",
            "_view_count": null,
            "_view_module": "@jupyter-widgets/base",
            "_view_module_version": "1.2.0",
            "_view_name": "LayoutView",
            "align_content": null,
            "align_items": null,
            "align_self": null,
            "border": null,
            "bottom": null,
            "display": null,
            "flex": null,
            "flex_flow": null,
            "grid_area": null,
            "grid_auto_columns": null,
            "grid_auto_flow": null,
            "grid_auto_rows": null,
            "grid_column": null,
            "grid_gap": null,
            "grid_row": null,
            "grid_template_areas": null,
            "grid_template_columns": null,
            "grid_template_rows": null,
            "height": null,
            "justify_content": null,
            "justify_items": null,
            "left": null,
            "margin": null,
            "max_height": null,
            "max_width": null,
            "min_height": null,
            "min_width": null,
            "object_fit": null,
            "object_position": null,
            "order": null,
            "overflow": null,
            "overflow_x": null,
            "overflow_y": null,
            "padding": null,
            "right": null,
            "top": null,
            "visibility": null,
            "width": null
          }
        },
        "554dc5f4d30c47eebabd30111c82d81c": {
          "model_module": "@jupyter-widgets/base",
          "model_module_version": "1.2.0",
          "model_name": "LayoutModel",
          "state": {
            "_model_module": "@jupyter-widgets/base",
            "_model_module_version": "1.2.0",
            "_model_name": "LayoutModel",
            "_view_count": null,
            "_view_module": "@jupyter-widgets/base",
            "_view_module_version": "1.2.0",
            "_view_name": "LayoutView",
            "align_content": null,
            "align_items": null,
            "align_self": null,
            "border": null,
            "bottom": null,
            "display": null,
            "flex": null,
            "flex_flow": null,
            "grid_area": null,
            "grid_auto_columns": null,
            "grid_auto_flow": null,
            "grid_auto_rows": null,
            "grid_column": null,
            "grid_gap": null,
            "grid_row": null,
            "grid_template_areas": null,
            "grid_template_columns": null,
            "grid_template_rows": null,
            "height": null,
            "justify_content": null,
            "justify_items": null,
            "left": null,
            "margin": null,
            "max_height": null,
            "max_width": null,
            "min_height": null,
            "min_width": null,
            "object_fit": null,
            "object_position": null,
            "order": null,
            "overflow": null,
            "overflow_x": null,
            "overflow_y": null,
            "padding": null,
            "right": null,
            "top": null,
            "visibility": null,
            "width": null
          }
        },
        "5a748c68790f4026aca4d835e94ae5e3": {
          "model_module": "@jupyter-widgets/controls",
          "model_module_version": "1.5.0",
          "model_name": "DescriptionStyleModel",
          "state": {
            "_model_module": "@jupyter-widgets/controls",
            "_model_module_version": "1.5.0",
            "_model_name": "DescriptionStyleModel",
            "_view_count": null,
            "_view_module": "@jupyter-widgets/base",
            "_view_module_version": "1.2.0",
            "_view_name": "StyleView",
            "description_width": ""
          }
        },
        "5c8aa9e364574b60b466ebd9ddbabe43": {
          "model_module": "@jupyter-widgets/base",
          "model_module_version": "1.2.0",
          "model_name": "LayoutModel",
          "state": {
            "_model_module": "@jupyter-widgets/base",
            "_model_module_version": "1.2.0",
            "_model_name": "LayoutModel",
            "_view_count": null,
            "_view_module": "@jupyter-widgets/base",
            "_view_module_version": "1.2.0",
            "_view_name": "LayoutView",
            "align_content": null,
            "align_items": null,
            "align_self": null,
            "border": null,
            "bottom": null,
            "display": null,
            "flex": null,
            "flex_flow": null,
            "grid_area": null,
            "grid_auto_columns": null,
            "grid_auto_flow": null,
            "grid_auto_rows": null,
            "grid_column": null,
            "grid_gap": null,
            "grid_row": null,
            "grid_template_areas": null,
            "grid_template_columns": null,
            "grid_template_rows": null,
            "height": null,
            "justify_content": null,
            "justify_items": null,
            "left": null,
            "margin": null,
            "max_height": null,
            "max_width": null,
            "min_height": null,
            "min_width": null,
            "object_fit": null,
            "object_position": null,
            "order": null,
            "overflow": null,
            "overflow_x": null,
            "overflow_y": null,
            "padding": null,
            "right": null,
            "top": null,
            "visibility": null,
            "width": null
          }
        },
        "60353a94e0614268bf36c619d5ade190": {
          "model_module": "@jupyter-widgets/controls",
          "model_module_version": "1.5.0",
          "model_name": "DescriptionStyleModel",
          "state": {
            "_model_module": "@jupyter-widgets/controls",
            "_model_module_version": "1.5.0",
            "_model_name": "DescriptionStyleModel",
            "_view_count": null,
            "_view_module": "@jupyter-widgets/base",
            "_view_module_version": "1.2.0",
            "_view_name": "StyleView",
            "description_width": ""
          }
        },
        "66c18ddd34754641aebcdeddd7884b22": {
          "model_module": "@jupyter-widgets/controls",
          "model_module_version": "1.5.0",
          "model_name": "FloatProgressModel",
          "state": {
            "_dom_classes": [],
            "_model_module": "@jupyter-widgets/controls",
            "_model_module_version": "1.5.0",
            "_model_name": "FloatProgressModel",
            "_view_count": null,
            "_view_module": "@jupyter-widgets/controls",
            "_view_module_version": "1.5.0",
            "_view_name": "ProgressView",
            "bar_style": "success",
            "description": "",
            "description_tooltip": null,
            "layout": "IPY_MODEL_83bdabe148a245f892074fb71d5693d6",
            "max": 772,
            "min": 0,
            "orientation": "horizontal",
            "style": "IPY_MODEL_0c469d93f4454777b0726c6dd3c25c08",
            "value": 772
          }
        },
        "6e67066a8fee497fa0d131751163e48e": {
          "model_module": "@jupyter-widgets/controls",
          "model_module_version": "1.5.0",
          "model_name": "FloatProgressModel",
          "state": {
            "_dom_classes": [],
            "_model_module": "@jupyter-widgets/controls",
            "_model_module_version": "1.5.0",
            "_model_name": "FloatProgressModel",
            "_view_count": null,
            "_view_module": "@jupyter-widgets/controls",
            "_view_module_version": "1.5.0",
            "_view_name": "ProgressView",
            "bar_style": "success",
            "description": "",
            "description_tooltip": null,
            "layout": "IPY_MODEL_3648bb398ed1412a89c4942460c71b2e",
            "max": 898822,
            "min": 0,
            "orientation": "horizontal",
            "style": "IPY_MODEL_24ae4b4b6e07407bb7db321420e85470",
            "value": 898822
          }
        },
        "6f61742d98234b95842f7b93cd316062": {
          "model_module": "@jupyter-widgets/base",
          "model_module_version": "1.2.0",
          "model_name": "LayoutModel",
          "state": {
            "_model_module": "@jupyter-widgets/base",
            "_model_module_version": "1.2.0",
            "_model_name": "LayoutModel",
            "_view_count": null,
            "_view_module": "@jupyter-widgets/base",
            "_view_module_version": "1.2.0",
            "_view_name": "LayoutView",
            "align_content": null,
            "align_items": null,
            "align_self": null,
            "border": null,
            "bottom": null,
            "display": null,
            "flex": null,
            "flex_flow": null,
            "grid_area": null,
            "grid_auto_columns": null,
            "grid_auto_flow": null,
            "grid_auto_rows": null,
            "grid_column": null,
            "grid_gap": null,
            "grid_row": null,
            "grid_template_areas": null,
            "grid_template_columns": null,
            "grid_template_rows": null,
            "height": null,
            "justify_content": null,
            "justify_items": null,
            "left": null,
            "margin": null,
            "max_height": null,
            "max_width": null,
            "min_height": null,
            "min_width": null,
            "object_fit": null,
            "object_position": null,
            "order": null,
            "overflow": null,
            "overflow_x": null,
            "overflow_y": null,
            "padding": null,
            "right": null,
            "top": null,
            "visibility": null,
            "width": null
          }
        },
        "79cfa833a3b34fb6b150cc0fbcda0e40": {
          "model_module": "@jupyter-widgets/controls",
          "model_module_version": "1.5.0",
          "model_name": "DescriptionStyleModel",
          "state": {
            "_model_module": "@jupyter-widgets/controls",
            "_model_module_version": "1.5.0",
            "_model_name": "DescriptionStyleModel",
            "_view_count": null,
            "_view_module": "@jupyter-widgets/base",
            "_view_module_version": "1.2.0",
            "_view_name": "StyleView",
            "description_width": ""
          }
        },
        "7c736bbac9ad467e887087c4b1109913": {
          "model_module": "@jupyter-widgets/controls",
          "model_module_version": "1.5.0",
          "model_name": "HTMLModel",
          "state": {
            "_dom_classes": [],
            "_model_module": "@jupyter-widgets/controls",
            "_model_module_version": "1.5.0",
            "_model_name": "HTMLModel",
            "_view_count": null,
            "_view_module": "@jupyter-widgets/controls",
            "_view_module_version": "1.5.0",
            "_view_name": "HTMLView",
            "description": "",
            "description_tooltip": null,
            "layout": "IPY_MODEL_006fafcef52f445b95627bf763bf698d",
            "placeholder": "​",
            "style": "IPY_MODEL_863dcd44d3994b3b8e32591bae564305",
            "value": "Downloading: 100%"
          }
        },
        "833f8a0177824583b6e259fb0b3c308c": {
          "model_module": "@jupyter-widgets/controls",
          "model_module_version": "1.5.0",
          "model_name": "HTMLModel",
          "state": {
            "_dom_classes": [],
            "_model_module": "@jupyter-widgets/controls",
            "_model_module_version": "1.5.0",
            "_model_name": "HTMLModel",
            "_view_count": null,
            "_view_module": "@jupyter-widgets/controls",
            "_view_module_version": "1.5.0",
            "_view_name": "HTMLView",
            "description": "",
            "description_tooltip": null,
            "layout": "IPY_MODEL_6f61742d98234b95842f7b93cd316062",
            "placeholder": "​",
            "style": "IPY_MODEL_c32f28a2606947ec82b4446f70354e21",
            "value": "Downloading: 100%"
          }
        },
        "8365d104772f4950a1e0c0260f93e0da": {
          "model_module": "@jupyter-widgets/base",
          "model_module_version": "1.2.0",
          "model_name": "LayoutModel",
          "state": {
            "_model_module": "@jupyter-widgets/base",
            "_model_module_version": "1.2.0",
            "_model_name": "LayoutModel",
            "_view_count": null,
            "_view_module": "@jupyter-widgets/base",
            "_view_module_version": "1.2.0",
            "_view_name": "LayoutView",
            "align_content": null,
            "align_items": null,
            "align_self": null,
            "border": null,
            "bottom": null,
            "display": null,
            "flex": null,
            "flex_flow": null,
            "grid_area": null,
            "grid_auto_columns": null,
            "grid_auto_flow": null,
            "grid_auto_rows": null,
            "grid_column": null,
            "grid_gap": null,
            "grid_row": null,
            "grid_template_areas": null,
            "grid_template_columns": null,
            "grid_template_rows": null,
            "height": null,
            "justify_content": null,
            "justify_items": null,
            "left": null,
            "margin": null,
            "max_height": null,
            "max_width": null,
            "min_height": null,
            "min_width": null,
            "object_fit": null,
            "object_position": null,
            "order": null,
            "overflow": null,
            "overflow_x": null,
            "overflow_y": null,
            "padding": null,
            "right": null,
            "top": null,
            "visibility": null,
            "width": null
          }
        },
        "83bdabe148a245f892074fb71d5693d6": {
          "model_module": "@jupyter-widgets/base",
          "model_module_version": "1.2.0",
          "model_name": "LayoutModel",
          "state": {
            "_model_module": "@jupyter-widgets/base",
            "_model_module_version": "1.2.0",
            "_model_name": "LayoutModel",
            "_view_count": null,
            "_view_module": "@jupyter-widgets/base",
            "_view_module_version": "1.2.0",
            "_view_name": "LayoutView",
            "align_content": null,
            "align_items": null,
            "align_self": null,
            "border": null,
            "bottom": null,
            "display": null,
            "flex": null,
            "flex_flow": null,
            "grid_area": null,
            "grid_auto_columns": null,
            "grid_auto_flow": null,
            "grid_auto_rows": null,
            "grid_column": null,
            "grid_gap": null,
            "grid_row": null,
            "grid_template_areas": null,
            "grid_template_columns": null,
            "grid_template_rows": null,
            "height": null,
            "justify_content": null,
            "justify_items": null,
            "left": null,
            "margin": null,
            "max_height": null,
            "max_width": null,
            "min_height": null,
            "min_width": null,
            "object_fit": null,
            "object_position": null,
            "order": null,
            "overflow": null,
            "overflow_x": null,
            "overflow_y": null,
            "padding": null,
            "right": null,
            "top": null,
            "visibility": null,
            "width": null
          }
        },
        "863dcd44d3994b3b8e32591bae564305": {
          "model_module": "@jupyter-widgets/controls",
          "model_module_version": "1.5.0",
          "model_name": "DescriptionStyleModel",
          "state": {
            "_model_module": "@jupyter-widgets/controls",
            "_model_module_version": "1.5.0",
            "_model_name": "DescriptionStyleModel",
            "_view_count": null,
            "_view_module": "@jupyter-widgets/base",
            "_view_module_version": "1.2.0",
            "_view_name": "StyleView",
            "description_width": ""
          }
        },
        "930bdc8265a046f2956637bf8f2d8720": {
          "model_module": "@jupyter-widgets/controls",
          "model_module_version": "1.5.0",
          "model_name": "HBoxModel",
          "state": {
            "_dom_classes": [],
            "_model_module": "@jupyter-widgets/controls",
            "_model_module_version": "1.5.0",
            "_model_name": "HBoxModel",
            "_view_count": null,
            "_view_module": "@jupyter-widgets/controls",
            "_view_module_version": "1.5.0",
            "_view_name": "HBoxView",
            "box_style": "",
            "children": [
              "IPY_MODEL_bd10467fe9a6433c83629d53a27bffb6",
              "IPY_MODEL_a2885c1bb97e4be5b14b04c6149e92fe",
              "IPY_MODEL_a0daf8b228fe47f6bfdb73249c8eb71d"
            ],
            "layout": "IPY_MODEL_cda6187fb37745c686374f723e322261"
          }
        },
        "9519cdf47f2d41dab90be98889192175": {
          "model_module": "@jupyter-widgets/controls",
          "model_module_version": "1.5.0",
          "model_name": "HBoxModel",
          "state": {
            "_dom_classes": [],
            "_model_module": "@jupyter-widgets/controls",
            "_model_module_version": "1.5.0",
            "_model_name": "HBoxModel",
            "_view_count": null,
            "_view_module": "@jupyter-widgets/controls",
            "_view_module_version": "1.5.0",
            "_view_name": "HBoxView",
            "box_style": "",
            "children": [
              "IPY_MODEL_04d62a6afe0546f39bfc929e0610cebb",
              "IPY_MODEL_66c18ddd34754641aebcdeddd7884b22",
              "IPY_MODEL_e1b694978a7f43c59ef12bc1d4fa6965"
            ],
            "layout": "IPY_MODEL_b3ff7a63160342e3abf681d90b49c732"
          }
        },
        "97749a48b6734926bf22d79f0eb8ea32": {
          "model_module": "@jupyter-widgets/base",
          "model_module_version": "1.2.0",
          "model_name": "LayoutModel",
          "state": {
            "_model_module": "@jupyter-widgets/base",
            "_model_module_version": "1.2.0",
            "_model_name": "LayoutModel",
            "_view_count": null,
            "_view_module": "@jupyter-widgets/base",
            "_view_module_version": "1.2.0",
            "_view_name": "LayoutView",
            "align_content": null,
            "align_items": null,
            "align_self": null,
            "border": null,
            "bottom": null,
            "display": null,
            "flex": null,
            "flex_flow": null,
            "grid_area": null,
            "grid_auto_columns": null,
            "grid_auto_flow": null,
            "grid_auto_rows": null,
            "grid_column": null,
            "grid_gap": null,
            "grid_row": null,
            "grid_template_areas": null,
            "grid_template_columns": null,
            "grid_template_rows": null,
            "height": null,
            "justify_content": null,
            "justify_items": null,
            "left": null,
            "margin": null,
            "max_height": null,
            "max_width": null,
            "min_height": null,
            "min_width": null,
            "object_fit": null,
            "object_position": null,
            "order": null,
            "overflow": null,
            "overflow_x": null,
            "overflow_y": null,
            "padding": null,
            "right": null,
            "top": null,
            "visibility": null,
            "width": null
          }
        },
        "9f2c8eb15d6d43e6a80e6022ba53c97b": {
          "model_module": "@jupyter-widgets/controls",
          "model_module_version": "1.5.0",
          "model_name": "HTMLModel",
          "state": {
            "_dom_classes": [],
            "_model_module": "@jupyter-widgets/controls",
            "_model_module_version": "1.5.0",
            "_model_name": "HTMLModel",
            "_view_count": null,
            "_view_module": "@jupyter-widgets/controls",
            "_view_module_version": "1.5.0",
            "_view_name": "HTMLView",
            "description": "",
            "description_tooltip": null,
            "layout": "IPY_MODEL_8365d104772f4950a1e0c0260f93e0da",
            "placeholder": "​",
            "style": "IPY_MODEL_111b5d179a57499ba014ddf47689dd57",
            "value": "Downloading: 100%"
          }
        },
        "a0daf8b228fe47f6bfdb73249c8eb71d": {
          "model_module": "@jupyter-widgets/controls",
          "model_module_version": "1.5.0",
          "model_name": "HTMLModel",
          "state": {
            "_dom_classes": [],
            "_model_module": "@jupyter-widgets/controls",
            "_model_module_version": "1.5.0",
            "_model_name": "HTMLModel",
            "_view_count": null,
            "_view_module": "@jupyter-widgets/controls",
            "_view_module_version": "1.5.0",
            "_view_name": "HTMLView",
            "description": "",
            "description_tooltip": null,
            "layout": "IPY_MODEL_3ea5c2ac77864796b0716a442e88e850",
            "placeholder": "​",
            "style": "IPY_MODEL_f863d9c3c46d4caf9bf133bedd29dc91",
            "value": " 571/571 [00:00&lt;00:00, 16.9kB/s]"
          }
        },
        "a1eff4d355504ffdb710d4fd56f2b4ad": {
          "model_module": "@jupyter-widgets/controls",
          "model_module_version": "1.5.0",
          "model_name": "FloatProgressModel",
          "state": {
            "_dom_classes": [],
            "_model_module": "@jupyter-widgets/controls",
            "_model_module_version": "1.5.0",
            "_model_name": "FloatProgressModel",
            "_view_count": null,
            "_view_module": "@jupyter-widgets/controls",
            "_view_module_version": "1.5.0",
            "_view_name": "ProgressView",
            "bar_style": "success",
            "description": "",
            "description_tooltip": null,
            "layout": "IPY_MODEL_554dc5f4d30c47eebabd30111c82d81c",
            "max": 456318,
            "min": 0,
            "orientation": "horizontal",
            "style": "IPY_MODEL_a683bda5a4b64b46882c1edf2d5cdb63",
            "value": 456318
          }
        },
        "a2885c1bb97e4be5b14b04c6149e92fe": {
          "model_module": "@jupyter-widgets/controls",
          "model_module_version": "1.5.0",
          "model_name": "FloatProgressModel",
          "state": {
            "_dom_classes": [],
            "_model_module": "@jupyter-widgets/controls",
            "_model_module_version": "1.5.0",
            "_model_name": "FloatProgressModel",
            "_view_count": null,
            "_view_module": "@jupyter-widgets/controls",
            "_view_module_version": "1.5.0",
            "_view_name": "ProgressView",
            "bar_style": "success",
            "description": "",
            "description_tooltip": null,
            "layout": "IPY_MODEL_c0f7018b1d724f3ab16315e4cab5266c",
            "max": 571,
            "min": 0,
            "orientation": "horizontal",
            "style": "IPY_MODEL_b8200739229f4b0d832b5efd01402948",
            "value": 571
          }
        },
        "a683bda5a4b64b46882c1edf2d5cdb63": {
          "model_module": "@jupyter-widgets/controls",
          "model_module_version": "1.5.0",
          "model_name": "ProgressStyleModel",
          "state": {
            "_model_module": "@jupyter-widgets/controls",
            "_model_module_version": "1.5.0",
            "_model_name": "ProgressStyleModel",
            "_view_count": null,
            "_view_module": "@jupyter-widgets/base",
            "_view_module_version": "1.2.0",
            "_view_name": "StyleView",
            "bar_color": null,
            "description_width": ""
          }
        },
        "ad5244e0cfee4409ac89825a3d2dcd25": {
          "model_module": "@jupyter-widgets/base",
          "model_module_version": "1.2.0",
          "model_name": "LayoutModel",
          "state": {
            "_model_module": "@jupyter-widgets/base",
            "_model_module_version": "1.2.0",
            "_model_name": "LayoutModel",
            "_view_count": null,
            "_view_module": "@jupyter-widgets/base",
            "_view_module_version": "1.2.0",
            "_view_name": "LayoutView",
            "align_content": null,
            "align_items": null,
            "align_self": null,
            "border": null,
            "bottom": null,
            "display": null,
            "flex": null,
            "flex_flow": null,
            "grid_area": null,
            "grid_auto_columns": null,
            "grid_auto_flow": null,
            "grid_auto_rows": null,
            "grid_column": null,
            "grid_gap": null,
            "grid_row": null,
            "grid_template_areas": null,
            "grid_template_columns": null,
            "grid_template_rows": null,
            "height": null,
            "justify_content": null,
            "justify_items": null,
            "left": null,
            "margin": null,
            "max_height": null,
            "max_width": null,
            "min_height": null,
            "min_width": null,
            "object_fit": null,
            "object_position": null,
            "order": null,
            "overflow": null,
            "overflow_x": null,
            "overflow_y": null,
            "padding": null,
            "right": null,
            "top": null,
            "visibility": null,
            "width": null
          }
        },
        "b3ff7a63160342e3abf681d90b49c732": {
          "model_module": "@jupyter-widgets/base",
          "model_module_version": "1.2.0",
          "model_name": "LayoutModel",
          "state": {
            "_model_module": "@jupyter-widgets/base",
            "_model_module_version": "1.2.0",
            "_model_name": "LayoutModel",
            "_view_count": null,
            "_view_module": "@jupyter-widgets/base",
            "_view_module_version": "1.2.0",
            "_view_name": "LayoutView",
            "align_content": null,
            "align_items": null,
            "align_self": null,
            "border": null,
            "bottom": null,
            "display": null,
            "flex": null,
            "flex_flow": null,
            "grid_area": null,
            "grid_auto_columns": null,
            "grid_auto_flow": null,
            "grid_auto_rows": null,
            "grid_column": null,
            "grid_gap": null,
            "grid_row": null,
            "grid_template_areas": null,
            "grid_template_columns": null,
            "grid_template_rows": null,
            "height": null,
            "justify_content": null,
            "justify_items": null,
            "left": null,
            "margin": null,
            "max_height": null,
            "max_width": null,
            "min_height": null,
            "min_width": null,
            "object_fit": null,
            "object_position": null,
            "order": null,
            "overflow": null,
            "overflow_x": null,
            "overflow_y": null,
            "padding": null,
            "right": null,
            "top": null,
            "visibility": null,
            "width": null
          }
        },
        "b8200739229f4b0d832b5efd01402948": {
          "model_module": "@jupyter-widgets/controls",
          "model_module_version": "1.5.0",
          "model_name": "ProgressStyleModel",
          "state": {
            "_model_module": "@jupyter-widgets/controls",
            "_model_module_version": "1.5.0",
            "_model_name": "ProgressStyleModel",
            "_view_count": null,
            "_view_module": "@jupyter-widgets/base",
            "_view_module_version": "1.2.0",
            "_view_name": "StyleView",
            "bar_color": null,
            "description_width": ""
          }
        },
        "bd10467fe9a6433c83629d53a27bffb6": {
          "model_module": "@jupyter-widgets/controls",
          "model_module_version": "1.5.0",
          "model_name": "HTMLModel",
          "state": {
            "_dom_classes": [],
            "_model_module": "@jupyter-widgets/controls",
            "_model_module_version": "1.5.0",
            "_model_name": "HTMLModel",
            "_view_count": null,
            "_view_module": "@jupyter-widgets/controls",
            "_view_module_version": "1.5.0",
            "_view_name": "HTMLView",
            "description": "",
            "description_tooltip": null,
            "layout": "IPY_MODEL_49775e16c5884adc8a531886c717713f",
            "placeholder": "​",
            "style": "IPY_MODEL_44d41d409f1c47ce81b3deec22b8006b",
            "value": "Downloading: 100%"
          }
        },
        "c0f7018b1d724f3ab16315e4cab5266c": {
          "model_module": "@jupyter-widgets/base",
          "model_module_version": "1.2.0",
          "model_name": "LayoutModel",
          "state": {
            "_model_module": "@jupyter-widgets/base",
            "_model_module_version": "1.2.0",
            "_model_name": "LayoutModel",
            "_view_count": null,
            "_view_module": "@jupyter-widgets/base",
            "_view_module_version": "1.2.0",
            "_view_name": "LayoutView",
            "align_content": null,
            "align_items": null,
            "align_self": null,
            "border": null,
            "bottom": null,
            "display": null,
            "flex": null,
            "flex_flow": null,
            "grid_area": null,
            "grid_auto_columns": null,
            "grid_auto_flow": null,
            "grid_auto_rows": null,
            "grid_column": null,
            "grid_gap": null,
            "grid_row": null,
            "grid_template_areas": null,
            "grid_template_columns": null,
            "grid_template_rows": null,
            "height": null,
            "justify_content": null,
            "justify_items": null,
            "left": null,
            "margin": null,
            "max_height": null,
            "max_width": null,
            "min_height": null,
            "min_width": null,
            "object_fit": null,
            "object_position": null,
            "order": null,
            "overflow": null,
            "overflow_x": null,
            "overflow_y": null,
            "padding": null,
            "right": null,
            "top": null,
            "visibility": null,
            "width": null
          }
        },
        "c32f28a2606947ec82b4446f70354e21": {
          "model_module": "@jupyter-widgets/controls",
          "model_module_version": "1.5.0",
          "model_name": "DescriptionStyleModel",
          "state": {
            "_model_module": "@jupyter-widgets/controls",
            "_model_module_version": "1.5.0",
            "_model_name": "DescriptionStyleModel",
            "_view_count": null,
            "_view_module": "@jupyter-widgets/base",
            "_view_module_version": "1.2.0",
            "_view_name": "StyleView",
            "description_width": ""
          }
        },
        "c441bc69c04c475fbee878dee3d35e08": {
          "model_module": "@jupyter-widgets/controls",
          "model_module_version": "1.5.0",
          "model_name": "DescriptionStyleModel",
          "state": {
            "_model_module": "@jupyter-widgets/controls",
            "_model_module_version": "1.5.0",
            "_model_name": "DescriptionStyleModel",
            "_view_count": null,
            "_view_module": "@jupyter-widgets/base",
            "_view_module_version": "1.2.0",
            "_view_name": "StyleView",
            "description_width": ""
          }
        },
        "c542b26e8de44074bc1b3e3e4a0c8a9b": {
          "model_module": "@jupyter-widgets/base",
          "model_module_version": "1.2.0",
          "model_name": "LayoutModel",
          "state": {
            "_model_module": "@jupyter-widgets/base",
            "_model_module_version": "1.2.0",
            "_model_name": "LayoutModel",
            "_view_count": null,
            "_view_module": "@jupyter-widgets/base",
            "_view_module_version": "1.2.0",
            "_view_name": "LayoutView",
            "align_content": null,
            "align_items": null,
            "align_self": null,
            "border": null,
            "bottom": null,
            "display": null,
            "flex": null,
            "flex_flow": null,
            "grid_area": null,
            "grid_auto_columns": null,
            "grid_auto_flow": null,
            "grid_auto_rows": null,
            "grid_column": null,
            "grid_gap": null,
            "grid_row": null,
            "grid_template_areas": null,
            "grid_template_columns": null,
            "grid_template_rows": null,
            "height": null,
            "justify_content": null,
            "justify_items": null,
            "left": null,
            "margin": null,
            "max_height": null,
            "max_width": null,
            "min_height": null,
            "min_width": null,
            "object_fit": null,
            "object_position": null,
            "order": null,
            "overflow": null,
            "overflow_x": null,
            "overflow_y": null,
            "padding": null,
            "right": null,
            "top": null,
            "visibility": null,
            "width": null
          }
        },
        "cc12e47705504a02ae88f0c6baf02d97": {
          "model_module": "@jupyter-widgets/controls",
          "model_module_version": "1.5.0",
          "model_name": "HTMLModel",
          "state": {
            "_dom_classes": [],
            "_model_module": "@jupyter-widgets/controls",
            "_model_module_version": "1.5.0",
            "_model_name": "HTMLModel",
            "_view_count": null,
            "_view_module": "@jupyter-widgets/controls",
            "_view_module_version": "1.5.0",
            "_view_name": "HTMLView",
            "description": "",
            "description_tooltip": null,
            "layout": "IPY_MODEL_01c96c8e78b14d1c92200fd9290fa7fb",
            "placeholder": "​",
            "style": "IPY_MODEL_0f39dcf4621349eaa6fd57dd2f81c915",
            "value": " 79.0/79.0 [00:00&lt;00:00, 2.54kB/s]"
          }
        },
        "cda6187fb37745c686374f723e322261": {
          "model_module": "@jupyter-widgets/base",
          "model_module_version": "1.2.0",
          "model_name": "LayoutModel",
          "state": {
            "_model_module": "@jupyter-widgets/base",
            "_model_module_version": "1.2.0",
            "_model_name": "LayoutModel",
            "_view_count": null,
            "_view_module": "@jupyter-widgets/base",
            "_view_module_version": "1.2.0",
            "_view_name": "LayoutView",
            "align_content": null,
            "align_items": null,
            "align_self": null,
            "border": null,
            "bottom": null,
            "display": null,
            "flex": null,
            "flex_flow": null,
            "grid_area": null,
            "grid_auto_columns": null,
            "grid_auto_flow": null,
            "grid_auto_rows": null,
            "grid_column": null,
            "grid_gap": null,
            "grid_row": null,
            "grid_template_areas": null,
            "grid_template_columns": null,
            "grid_template_rows": null,
            "height": null,
            "justify_content": null,
            "justify_items": null,
            "left": null,
            "margin": null,
            "max_height": null,
            "max_width": null,
            "min_height": null,
            "min_width": null,
            "object_fit": null,
            "object_position": null,
            "order": null,
            "overflow": null,
            "overflow_x": null,
            "overflow_y": null,
            "padding": null,
            "right": null,
            "top": null,
            "visibility": null,
            "width": null
          }
        },
        "cf0ea4a572074f45bf231c9b8634ffd7": {
          "model_module": "@jupyter-widgets/controls",
          "model_module_version": "1.5.0",
          "model_name": "HBoxModel",
          "state": {
            "_dom_classes": [],
            "_model_module": "@jupyter-widgets/controls",
            "_model_module_version": "1.5.0",
            "_model_name": "HBoxModel",
            "_view_count": null,
            "_view_module": "@jupyter-widgets/controls",
            "_view_module_version": "1.5.0",
            "_view_name": "HBoxView",
            "box_style": "",
            "children": [
              "IPY_MODEL_833f8a0177824583b6e259fb0b3c308c",
              "IPY_MODEL_3a82ae050eb841b5ae31af0c79b20117",
              "IPY_MODEL_cc12e47705504a02ae88f0c6baf02d97"
            ],
            "layout": "IPY_MODEL_37def2d818cb4a978c05e59e94f1a31c"
          }
        },
        "e1b694978a7f43c59ef12bc1d4fa6965": {
          "model_module": "@jupyter-widgets/controls",
          "model_module_version": "1.5.0",
          "model_name": "HTMLModel",
          "state": {
            "_dom_classes": [],
            "_model_module": "@jupyter-widgets/controls",
            "_model_module_version": "1.5.0",
            "_model_name": "HTMLModel",
            "_view_count": null,
            "_view_module": "@jupyter-widgets/controls",
            "_view_module_version": "1.5.0",
            "_view_name": "HTMLView",
            "description": "",
            "description_tooltip": null,
            "layout": "IPY_MODEL_97749a48b6734926bf22d79f0eb8ea32",
            "placeholder": "​",
            "style": "IPY_MODEL_4c418bfba19047b2872b5e4568913224",
            "value": " 772/772 [00:00&lt;00:00, 20.1kB/s]"
          }
        },
        "e7638bf2190940c8b1745b610af81150": {
          "model_module": "@jupyter-widgets/controls",
          "model_module_version": "1.5.0",
          "model_name": "HBoxModel",
          "state": {
            "_dom_classes": [],
            "_model_module": "@jupyter-widgets/controls",
            "_model_module_version": "1.5.0",
            "_model_name": "HBoxModel",
            "_view_count": null,
            "_view_module": "@jupyter-widgets/controls",
            "_view_module_version": "1.5.0",
            "_view_name": "HBoxView",
            "box_style": "",
            "children": [
              "IPY_MODEL_9f2c8eb15d6d43e6a80e6022ba53c97b",
              "IPY_MODEL_fa0d7d0ae82343c3afa69e45abeb28be",
              "IPY_MODEL_31ae1b8e20a6485f948a228ba8e0038b"
            ],
            "layout": "IPY_MODEL_21c15e2f85004a6298cc1821e3bbc803"
          }
        },
        "f220812d067d430c9e0b0fc0913cb389": {
          "model_module": "@jupyter-widgets/controls",
          "model_module_version": "1.5.0",
          "model_name": "HTMLModel",
          "state": {
            "_dom_classes": [],
            "_model_module": "@jupyter-widgets/controls",
            "_model_module_version": "1.5.0",
            "_model_name": "HTMLModel",
            "_view_count": null,
            "_view_module": "@jupyter-widgets/controls",
            "_view_module_version": "1.5.0",
            "_view_name": "HTMLView",
            "description": "",
            "description_tooltip": null,
            "layout": "IPY_MODEL_5c8aa9e364574b60b466ebd9ddbabe43",
            "placeholder": "​",
            "style": "IPY_MODEL_5a748c68790f4026aca4d835e94ae5e3",
            "value": "Downloading: 100%"
          }
        },
        "f2ca07376c1a4805a73d47ba409102c7": {
          "model_module": "@jupyter-widgets/base",
          "model_module_version": "1.2.0",
          "model_name": "LayoutModel",
          "state": {
            "_model_module": "@jupyter-widgets/base",
            "_model_module_version": "1.2.0",
            "_model_name": "LayoutModel",
            "_view_count": null,
            "_view_module": "@jupyter-widgets/base",
            "_view_module_version": "1.2.0",
            "_view_name": "LayoutView",
            "align_content": null,
            "align_items": null,
            "align_self": null,
            "border": null,
            "bottom": null,
            "display": null,
            "flex": null,
            "flex_flow": null,
            "grid_area": null,
            "grid_auto_columns": null,
            "grid_auto_flow": null,
            "grid_auto_rows": null,
            "grid_column": null,
            "grid_gap": null,
            "grid_row": null,
            "grid_template_areas": null,
            "grid_template_columns": null,
            "grid_template_rows": null,
            "height": null,
            "justify_content": null,
            "justify_items": null,
            "left": null,
            "margin": null,
            "max_height": null,
            "max_width": null,
            "min_height": null,
            "min_width": null,
            "object_fit": null,
            "object_position": null,
            "order": null,
            "overflow": null,
            "overflow_x": null,
            "overflow_y": null,
            "padding": null,
            "right": null,
            "top": null,
            "visibility": null,
            "width": null
          }
        },
        "f451b853bcfd421b8523a398e4f2bef1": {
          "model_module": "@jupyter-widgets/base",
          "model_module_version": "1.2.0",
          "model_name": "LayoutModel",
          "state": {
            "_model_module": "@jupyter-widgets/base",
            "_model_module_version": "1.2.0",
            "_model_name": "LayoutModel",
            "_view_count": null,
            "_view_module": "@jupyter-widgets/base",
            "_view_module_version": "1.2.0",
            "_view_name": "LayoutView",
            "align_content": null,
            "align_items": null,
            "align_self": null,
            "border": null,
            "bottom": null,
            "display": null,
            "flex": null,
            "flex_flow": null,
            "grid_area": null,
            "grid_auto_columns": null,
            "grid_auto_flow": null,
            "grid_auto_rows": null,
            "grid_column": null,
            "grid_gap": null,
            "grid_row": null,
            "grid_template_areas": null,
            "grid_template_columns": null,
            "grid_template_rows": null,
            "height": null,
            "justify_content": null,
            "justify_items": null,
            "left": null,
            "margin": null,
            "max_height": null,
            "max_width": null,
            "min_height": null,
            "min_width": null,
            "object_fit": null,
            "object_position": null,
            "order": null,
            "overflow": null,
            "overflow_x": null,
            "overflow_y": null,
            "padding": null,
            "right": null,
            "top": null,
            "visibility": null,
            "width": null
          }
        },
        "f4bbc24542c94e9fa60303e455c6b73c": {
          "model_module": "@jupyter-widgets/controls",
          "model_module_version": "1.5.0",
          "model_name": "DescriptionStyleModel",
          "state": {
            "_model_module": "@jupyter-widgets/controls",
            "_model_module_version": "1.5.0",
            "_model_name": "DescriptionStyleModel",
            "_view_count": null,
            "_view_module": "@jupyter-widgets/base",
            "_view_module_version": "1.2.0",
            "_view_name": "StyleView",
            "description_width": ""
          }
        },
        "f863d9c3c46d4caf9bf133bedd29dc91": {
          "model_module": "@jupyter-widgets/controls",
          "model_module_version": "1.5.0",
          "model_name": "DescriptionStyleModel",
          "state": {
            "_model_module": "@jupyter-widgets/controls",
            "_model_module_version": "1.5.0",
            "_model_name": "DescriptionStyleModel",
            "_view_count": null,
            "_view_module": "@jupyter-widgets/base",
            "_view_module_version": "1.2.0",
            "_view_name": "StyleView",
            "description_width": ""
          }
        },
        "fa0d7d0ae82343c3afa69e45abeb28be": {
          "model_module": "@jupyter-widgets/controls",
          "model_module_version": "1.5.0",
          "model_name": "FloatProgressModel",
          "state": {
            "_dom_classes": [],
            "_model_module": "@jupyter-widgets/controls",
            "_model_module_version": "1.5.0",
            "_model_name": "FloatProgressModel",
            "_view_count": null,
            "_view_module": "@jupyter-widgets/controls",
            "_view_module_version": "1.5.0",
            "_view_name": "ProgressView",
            "bar_style": "success",
            "description": "",
            "description_tooltip": null,
            "layout": "IPY_MODEL_ad5244e0cfee4409ac89825a3d2dcd25",
            "max": 496313727,
            "min": 0,
            "orientation": "horizontal",
            "style": "IPY_MODEL_3461461e3f614389b32d38e7f0a5fe54",
            "value": 496313727
          }
        }
      }
    }
  },
  "nbformat": 4,
  "nbformat_minor": 0
}
